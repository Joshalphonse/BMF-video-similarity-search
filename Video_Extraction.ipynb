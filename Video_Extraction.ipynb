{
  "nbformat": 4,
  "nbformat_minor": 0,
  "metadata": {
    "colab": {
      "provenance": [],
      "machine_shape": "hm",
      "gpuType": "V100",
      "authorship_tag": "ABX9TyMyz0oT8edMP+QE8kkMjKt4",
      "include_colab_link": true
    },
    "kernelspec": {
      "name": "python3",
      "display_name": "Python 3"
    },
    "language_info": {
      "name": "python"
    },
    "accelerator": "GPU"
  },
  "cells": [
    {
      "cell_type": "markdown",
      "metadata": {
        "id": "view-in-github",
        "colab_type": "text"
      },
      "source": [
        "<a href=\"https://colab.research.google.com/github/Joshalphonse/BMF-video-similarity-search/blob/main/Video_Extraction.ipynb\" target=\"_parent\"><img src=\"https://colab.research.google.com/assets/colab-badge.svg\" alt=\"Open In Colab\"/></a>"
      ]
    },
    {
      "cell_type": "markdown",
      "source": [
        "This is a notebook dedicated to learn how to create a video similarity search with BMF and Pinecone(Vector Database). Make sure to add your own .env file, and create the necessary folders to use this. For a more indepth breakfown please check out the blog"
      ],
      "metadata": {
        "id": "udQkQQZQSjj5"
      }
    },
    {
      "cell_type": "code",
      "source": [
        "# Import and configure logging\n",
        "import logging\n",
        "logger = logging.getLogger()\n",
        "logger.setLevel(logging.INFO)\n",
        "\n",
        "# Create a handler to log to stdout\n",
        "handler = logging.StreamHandler(sys.stdout)\n",
        "handler.setFormatter(logging.Formatter('%(asctime)s - %(name)s - %(levelname)s - %(message)s'))\n",
        "logger.addHandler(handler)"
      ],
      "metadata": {
        "id": "RPhrsrf95zDW"
      },
      "execution_count": null,
      "outputs": []
    },
    {
      "cell_type": "code",
      "execution_count": null,
      "metadata": {
        "id": "BNooCP09SgM1",
        "colab": {
          "base_uri": "https://localhost:8080/"
        },
        "outputId": "67ba2ed9-99c4-492a-9109-548e622640b7"
      },
      "outputs": [
        {
          "output_type": "stream",
          "name": "stdout",
          "text": [
            "\u001b[31mERROR: pip's dependency resolver does not currently take into account all the packages that are installed. This behaviour is the source of the following dependency conflicts.\n",
            "torchaudio 2.2.1+cu121 requires torch==2.2.1, but you have torch 2.2.2 which is incompatible.\n",
            "torchtext 0.17.1 requires torch==2.2.1, but you have torch 2.2.2 which is incompatible.\u001b[0m\u001b[31m\n",
            "\u001b[0m"
          ]
        }
      ],
      "source": [
        "!pip install -qU \\\n",
        "  pinecone-client \\\n",
        "  BabitMF-GPU \\\n",
        "  torch \\\n",
        "  torchvision>=0.12.0 \\\n",
        "  python-dotenv \\\n",
        "  av"
      ]
    },
    {
      "cell_type": "code",
      "source": [
        "import os\n",
        "from dotenv import load_dotenv, find_dotenv\n",
        "import sys\n",
        "_=load_dotenv(find_dotenv()) # read local .env file\n",
        "\n",
        "Myvar = os.environ['PINECONE_API_KEY']\n",
        "print(Myvar)"
      ],
      "metadata": {
        "colab": {
          "base_uri": "https://localhost:8080/"
        },
        "id": "RHRZurFqhNWq",
        "outputId": "2e783c8b-c0bf-422c-bb11-25da62210a78"
      },
      "execution_count": null,
      "outputs": [
        {
          "output_type": "stream",
          "name": "stdout",
          "text": [
            "e879cc7b-6aa6-4f72-bfcd-dcf59b342196\n"
          ]
        }
      ]
    },
    {
      "cell_type": "code",
      "source": [
        "! curl -L https://github.com/towhee-io/examples/releases/download/data/reverse_video_search.zip -O\n",
        "! unzip -q -o reverse_video_search.zip"
      ],
      "metadata": {
        "id": "5oZgeFnKpM2_",
        "colab": {
          "base_uri": "https://localhost:8080/"
        },
        "outputId": "06f06a37-b34d-4260-e41e-9eb1c6ee8c2b"
      },
      "execution_count": null,
      "outputs": [
        {
          "output_type": "stream",
          "name": "stdout",
          "text": [
            "  % Total    % Received % Xferd  Average Speed   Time    Time     Time  Current\n",
            "                                 Dload  Upload   Total   Spent    Left  Speed\n",
            "  0     0    0     0    0     0      0      0 --:--:-- --:--:-- --:--:--     0\n",
            "100  152M  100  152M    0     0  99.6M      0  0:00:01  0:00:01 --:--:--  209M\n"
          ]
        }
      ]
    },
    {
      "cell_type": "code",
      "source": [
        "import pandas as pd\n",
        "\n",
        "df = pd.read_csv('./reverse_video_search.csv', nrows=3) #put the files in the dataframe\n",
        "video_paths = df['path'].tolist() #convert df to python list\n",
        "\n",
        "print(video_paths) #check if the video paths"
      ],
      "metadata": {
        "id": "JG6RX9HBpUbF",
        "colab": {
          "base_uri": "https://localhost:8080/"
        },
        "outputId": "9bbea163-83c4-4d88-a553-9d3e52d61956"
      },
      "execution_count": null,
      "outputs": [
        {
          "output_type": "stream",
          "name": "stdout",
          "text": [
            "['./train/country_line_dancing/bTbC3w_NIvM.mp4', './train/country_line_dancing/n2dWtEmNn5c.mp4', './train/country_line_dancing/zta-Iv-xK7I.mp4']\n"
          ]
        }
      ]
    },
    {
      "cell_type": "code",
      "source": [
        "import torch\n",
        "import torchvision.transforms as transforms\n",
        "import torchvision.models as models\n",
        "\n",
        "model = models.resnet18(pretrained=True)\n",
        "model.eval()\n",
        "\n",
        "print(model.eval())"
      ],
      "metadata": {
        "id": "qQRLp8432tJN",
        "colab": {
          "base_uri": "https://localhost:8080/"
        },
        "outputId": "6e3bf076-a451-474b-d347-eb03ce4866c6"
      },
      "execution_count": null,
      "outputs": [
        {
          "output_type": "stream",
          "name": "stderr",
          "text": [
            "/usr/local/lib/python3.10/dist-packages/torchvision/models/_utils.py:208: UserWarning: The parameter 'pretrained' is deprecated since 0.13 and may be removed in the future, please use 'weights' instead.\n",
            "  warnings.warn(\n",
            "/usr/local/lib/python3.10/dist-packages/torchvision/models/_utils.py:223: UserWarning: Arguments other than a weight enum or `None` for 'weights' are deprecated since 0.13 and may be removed in the future. The current behavior is equivalent to passing `weights=ResNet18_Weights.IMAGENET1K_V1`. You can also use `weights=ResNet18_Weights.DEFAULT` to get the most up-to-date weights.\n",
            "  warnings.warn(msg)\n",
            "Downloading: \"https://download.pytorch.org/models/resnet18-f37072fd.pth\" to /root/.cache/torch/hub/checkpoints/resnet18-f37072fd.pth\n",
            "100%|██████████| 44.7M/44.7M [00:00<00:00, 171MB/s]\n"
          ]
        },
        {
          "output_type": "stream",
          "name": "stdout",
          "text": [
            "ResNet(\n",
            "  (conv1): Conv2d(3, 64, kernel_size=(7, 7), stride=(2, 2), padding=(3, 3), bias=False)\n",
            "  (bn1): BatchNorm2d(64, eps=1e-05, momentum=0.1, affine=True, track_running_stats=True)\n",
            "  (relu): ReLU(inplace=True)\n",
            "  (maxpool): MaxPool2d(kernel_size=3, stride=2, padding=1, dilation=1, ceil_mode=False)\n",
            "  (layer1): Sequential(\n",
            "    (0): BasicBlock(\n",
            "      (conv1): Conv2d(64, 64, kernel_size=(3, 3), stride=(1, 1), padding=(1, 1), bias=False)\n",
            "      (bn1): BatchNorm2d(64, eps=1e-05, momentum=0.1, affine=True, track_running_stats=True)\n",
            "      (relu): ReLU(inplace=True)\n",
            "      (conv2): Conv2d(64, 64, kernel_size=(3, 3), stride=(1, 1), padding=(1, 1), bias=False)\n",
            "      (bn2): BatchNorm2d(64, eps=1e-05, momentum=0.1, affine=True, track_running_stats=True)\n",
            "    )\n",
            "    (1): BasicBlock(\n",
            "      (conv1): Conv2d(64, 64, kernel_size=(3, 3), stride=(1, 1), padding=(1, 1), bias=False)\n",
            "      (bn1): BatchNorm2d(64, eps=1e-05, momentum=0.1, affine=True, track_running_stats=True)\n",
            "      (relu): ReLU(inplace=True)\n",
            "      (conv2): Conv2d(64, 64, kernel_size=(3, 3), stride=(1, 1), padding=(1, 1), bias=False)\n",
            "      (bn2): BatchNorm2d(64, eps=1e-05, momentum=0.1, affine=True, track_running_stats=True)\n",
            "    )\n",
            "  )\n",
            "  (layer2): Sequential(\n",
            "    (0): BasicBlock(\n",
            "      (conv1): Conv2d(64, 128, kernel_size=(3, 3), stride=(2, 2), padding=(1, 1), bias=False)\n",
            "      (bn1): BatchNorm2d(128, eps=1e-05, momentum=0.1, affine=True, track_running_stats=True)\n",
            "      (relu): ReLU(inplace=True)\n",
            "      (conv2): Conv2d(128, 128, kernel_size=(3, 3), stride=(1, 1), padding=(1, 1), bias=False)\n",
            "      (bn2): BatchNorm2d(128, eps=1e-05, momentum=0.1, affine=True, track_running_stats=True)\n",
            "      (downsample): Sequential(\n",
            "        (0): Conv2d(64, 128, kernel_size=(1, 1), stride=(2, 2), bias=False)\n",
            "        (1): BatchNorm2d(128, eps=1e-05, momentum=0.1, affine=True, track_running_stats=True)\n",
            "      )\n",
            "    )\n",
            "    (1): BasicBlock(\n",
            "      (conv1): Conv2d(128, 128, kernel_size=(3, 3), stride=(1, 1), padding=(1, 1), bias=False)\n",
            "      (bn1): BatchNorm2d(128, eps=1e-05, momentum=0.1, affine=True, track_running_stats=True)\n",
            "      (relu): ReLU(inplace=True)\n",
            "      (conv2): Conv2d(128, 128, kernel_size=(3, 3), stride=(1, 1), padding=(1, 1), bias=False)\n",
            "      (bn2): BatchNorm2d(128, eps=1e-05, momentum=0.1, affine=True, track_running_stats=True)\n",
            "    )\n",
            "  )\n",
            "  (layer3): Sequential(\n",
            "    (0): BasicBlock(\n",
            "      (conv1): Conv2d(128, 256, kernel_size=(3, 3), stride=(2, 2), padding=(1, 1), bias=False)\n",
            "      (bn1): BatchNorm2d(256, eps=1e-05, momentum=0.1, affine=True, track_running_stats=True)\n",
            "      (relu): ReLU(inplace=True)\n",
            "      (conv2): Conv2d(256, 256, kernel_size=(3, 3), stride=(1, 1), padding=(1, 1), bias=False)\n",
            "      (bn2): BatchNorm2d(256, eps=1e-05, momentum=0.1, affine=True, track_running_stats=True)\n",
            "      (downsample): Sequential(\n",
            "        (0): Conv2d(128, 256, kernel_size=(1, 1), stride=(2, 2), bias=False)\n",
            "        (1): BatchNorm2d(256, eps=1e-05, momentum=0.1, affine=True, track_running_stats=True)\n",
            "      )\n",
            "    )\n",
            "    (1): BasicBlock(\n",
            "      (conv1): Conv2d(256, 256, kernel_size=(3, 3), stride=(1, 1), padding=(1, 1), bias=False)\n",
            "      (bn1): BatchNorm2d(256, eps=1e-05, momentum=0.1, affine=True, track_running_stats=True)\n",
            "      (relu): ReLU(inplace=True)\n",
            "      (conv2): Conv2d(256, 256, kernel_size=(3, 3), stride=(1, 1), padding=(1, 1), bias=False)\n",
            "      (bn2): BatchNorm2d(256, eps=1e-05, momentum=0.1, affine=True, track_running_stats=True)\n",
            "    )\n",
            "  )\n",
            "  (layer4): Sequential(\n",
            "    (0): BasicBlock(\n",
            "      (conv1): Conv2d(256, 512, kernel_size=(3, 3), stride=(2, 2), padding=(1, 1), bias=False)\n",
            "      (bn1): BatchNorm2d(512, eps=1e-05, momentum=0.1, affine=True, track_running_stats=True)\n",
            "      (relu): ReLU(inplace=True)\n",
            "      (conv2): Conv2d(512, 512, kernel_size=(3, 3), stride=(1, 1), padding=(1, 1), bias=False)\n",
            "      (bn2): BatchNorm2d(512, eps=1e-05, momentum=0.1, affine=True, track_running_stats=True)\n",
            "      (downsample): Sequential(\n",
            "        (0): Conv2d(256, 512, kernel_size=(1, 1), stride=(2, 2), bias=False)\n",
            "        (1): BatchNorm2d(512, eps=1e-05, momentum=0.1, affine=True, track_running_stats=True)\n",
            "      )\n",
            "    )\n",
            "    (1): BasicBlock(\n",
            "      (conv1): Conv2d(512, 512, kernel_size=(3, 3), stride=(1, 1), padding=(1, 1), bias=False)\n",
            "      (bn1): BatchNorm2d(512, eps=1e-05, momentum=0.1, affine=True, track_running_stats=True)\n",
            "      (relu): ReLU(inplace=True)\n",
            "      (conv2): Conv2d(512, 512, kernel_size=(3, 3), stride=(1, 1), padding=(1, 1), bias=False)\n",
            "      (bn2): BatchNorm2d(512, eps=1e-05, momentum=0.1, affine=True, track_running_stats=True)\n",
            "    )\n",
            "  )\n",
            "  (avgpool): AdaptiveAvgPool2d(output_size=(1, 1))\n",
            "  (fc): Linear(in_features=512, out_features=1000, bias=True)\n",
            ")\n"
          ]
        }
      ]
    },
    {
      "cell_type": "code",
      "source": [
        "import os\n",
        "import cv2\n",
        "import av\n",
        "from pinecone import Pinecone, ServerlessSpec\n",
        "import numpy as np\n",
        "import pandas as pd\n",
        "import torch\n",
        "import torchvision.transforms as transforms\n",
        "import torchvision.models as models\n",
        "\n",
        "\n",
        "PINECONE_API_KEY = os.environ[\"PINECONE_API_KEY\"]\n",
        "PINECONE_ENVIRONMENT = os.environ[\"PINECONE_ENVIRONMENT\"]\n",
        "PINECONE_DATABASE = os.environ[\"PINECONE_DATABASE\"]\n",
        "\n",
        "# Replace 'your_pinecone_api_key' with your actual Pinecone API key or use environment variables like I am here\n",
        "pc = Pinecone(api_key=PINECONE_API_KEY, environment=PINECONE_ENVIRONMENT)\n",
        "index = pc.Index(PINECONE_DATABASE)\n",
        "\n",
        "#load the CSV file\n",
        "csv_file = './reverse_video_search.csv'\n",
        "df = pd.read_csv(csv_file, nrows=3)\n",
        "video_paths = df['path'].tolist()\n",
        "print(video_paths) #check if the video paths\n",
        "\n",
        "#load a pretrained ResNet model\n",
        "model = models.resnet18(pretrained = True)\n",
        "model.eval()\n",
        "\n",
        "#remove the last fully connectected layer\n",
        "model = torch.nn.Sequential(*list(model.children())[:-1])\n",
        "\n",
        "# Define the preprocessing transforms\n",
        "preprocess = transforms.Compose([\n",
        "    transforms.ToTensor(),\n",
        "    transforms.Resize((224, 224)),\n",
        "    transforms.Normalize(mean=[0.485, 0.456, 0.406], std=[0.229, 0.224, 0.225])\n",
        "])\n",
        "\n",
        "# Iterate over each video path and generate embeddings\n",
        "for video_path in video_paths:\n",
        "    # Open the video file\n",
        "    video = av.open(video_path)\n",
        "\n",
        "    # Get the first video stream\n",
        "    video_stream = next(s for s in video.streams if s.type == 'video')\n",
        "\n",
        "    # Initialize variables for storing embeddings\n",
        "    embeddings = []\n",
        "\n",
        "    # Iterate over the video frames\n",
        "    for frame in video.decode(video=0):\n",
        "        # Convert the frame to a numpy array\n",
        "        img = frame.to_ndarray(format='rgb24')\n",
        "\n",
        "        # Preprocess the frame\n",
        "        img = preprocess(img)\n",
        "        img = img.unsqueeze(0)  # Add batch dimension\n",
        "\n",
        "        # Generate embeddings using the ResNet model\n",
        "        with torch.no_grad():\n",
        "            embedding = model(img)\n",
        "            embedding = embedding.squeeze().numpy()\n",
        "\n",
        "        # Append the embedding to the list\n",
        "        embeddings.append(embedding)\n",
        "\n",
        "    # Convert the list of embeddings to a numpy array\n",
        "    embeddings = np.array(embeddings)\n",
        "\n",
        "    # Calculate the average embedding for the video\n",
        "    avg_embedding = np.mean(embeddings, axis=0)\n",
        "    print(avg_embedding)\n",
        "\n",
        "    # Upsert the embedding to Pinecone\n",
        "    index.upsert(\n",
        "        vectors=[\n",
        "            (video_path, avg_embedding.tolist())\n",
        "        ],\n",
        "        namespace='video_embeddings'\n",
        "    )\n",
        "\n",
        "    print(f\"Upserted embedding for video: {video_path}\")"
      ],
      "metadata": {
        "id": "y-aDpZeDdCe6",
        "colab": {
          "base_uri": "https://localhost:8080/"
        },
        "outputId": "febfe2ff-7bdc-4a8c-ecb1-ed46de7f681a"
      },
      "execution_count": null,
      "outputs": [
        {
          "output_type": "stream",
          "name": "stdout",
          "text": [
            "['./train/country_line_dancing/bTbC3w_NIvM.mp4', './train/country_line_dancing/n2dWtEmNn5c.mp4', './train/country_line_dancing/zta-Iv-xK7I.mp4']\n"
          ]
        },
        {
          "output_type": "stream",
          "name": "stderr",
          "text": [
            "/usr/local/lib/python3.10/dist-packages/torchvision/models/_utils.py:208: UserWarning: The parameter 'pretrained' is deprecated since 0.13 and may be removed in the future, please use 'weights' instead.\n",
            "  warnings.warn(\n",
            "/usr/local/lib/python3.10/dist-packages/torchvision/models/_utils.py:223: UserWarning: Arguments other than a weight enum or `None` for 'weights' are deprecated since 0.13 and may be removed in the future. The current behavior is equivalent to passing `weights=ResNet18_Weights.IMAGENET1K_V1`. You can also use `weights=ResNet18_Weights.DEFAULT` to get the most up-to-date weights.\n",
            "  warnings.warn(msg)\n"
          ]
        },
        {
          "output_type": "stream",
          "name": "stdout",
          "text": [
            "[0.1975852  2.749517   0.84790474 1.0632831  0.25560564 0.30372965\n",
            " 0.10311005 0.6781837  0.30272514 0.67747945 0.5228789  0.733537\n",
            " 0.584947   0.6034906  0.35398906 0.5630128  1.7083528  0.7473611\n",
            " 0.28747582 0.6528601  0.25462946 1.4609638  0.8950826  2.1040838\n",
            " 0.62127596 0.22613691 1.7954069  1.331547   0.33952639 1.1530455\n",
            " 0.8457775  0.93469185 0.32220775 0.80065143 0.961425   0.36470413\n",
            " 0.8630163  1.0693367  0.41804913 2.0176532  0.1717425  0.77546763\n",
            " 1.8746331  0.8184808  0.90874606 0.322206   0.3044036  0.81794137\n",
            " 0.80901265 0.51200134 0.92606044 0.7719966  0.5612946  0.39628744\n",
            " 0.30152896 1.4736904  0.901579   1.0201709  1.2198595  0.36913177\n",
            " 0.4206543  0.49619627 1.4402015  0.6565788  0.8162852  1.2335038\n",
            " 1.0062577  0.35270593 1.5679954  0.6802399  1.8659592  0.6454067\n",
            " 1.5738058  0.14128596 1.5759013  0.33664018 1.0016316  1.0551246\n",
            " 0.6964168  0.48590976 0.68266565 0.9828467  0.2236214  2.876266\n",
            " 0.4438299  0.30294994 0.42758146 0.7031935  2.9979553  1.1821252\n",
            " 0.21436882 0.76209974 0.9462189  2.2905917  0.45719513 1.1163235\n",
            " 0.6095767  1.8472475  0.59544736 1.0718416  0.5301142  0.81549746\n",
            " 1.0990777  0.10079321 0.38857093 0.5596491  1.5480219  0.08415215\n",
            " 0.613972   0.2421102  0.91672426 1.2286378  0.58072    0.39679572\n",
            " 1.5514522  1.4150884  0.5490916  0.70593935 0.23150654 0.6159753\n",
            " 0.8522331  0.4229431  0.52265656 1.359378   2.083182   0.5662668\n",
            " 0.3948478  1.1087134  0.4736464  0.40676937 1.0785061  0.15200187\n",
            " 0.6142179  0.5104919  1.6385413  0.81986755 0.71762586 0.9348392\n",
            " 0.6570871  0.60624725 0.47381353 0.82750565 0.4178636  0.73745143\n",
            " 0.93173957 0.5540223  0.5725301  0.88995343 0.40824044 1.3096863\n",
            " 0.57246065 0.5644837  2.0412357  0.47645915 0.326749   0.33143616\n",
            " 0.66460073 0.4498312  0.03051996 0.5356258  1.6900518  0.40526932\n",
            " 1.1107576  4.053338   0.46161824 0.18833709 1.7039257  0.5308634\n",
            " 0.8428196  0.25467888 0.81852293 0.49113306 2.1867173  0.06508169\n",
            " 0.7605249  0.48047063 0.49884236 0.6463901  0.20442688 0.6844809\n",
            " 0.7704898  0.46462855 0.2696172  1.1212165  0.8910106  2.3012905\n",
            " 0.33217993 0.30922118 0.58904207 0.68415034 0.8819793  1.0087063\n",
            " 1.8337861  1.1608533  0.592868   1.4103067  1.0604011  0.57130337\n",
            " 0.24145696 1.3670851  1.4018292  0.68475527 0.2759202  0.35727406\n",
            " 0.75785065 0.6020852  0.34604448 0.45370433 0.16803244 0.88232744\n",
            " 0.59011704 0.31411907 0.3774307  0.52056384 0.75659394 0.9394126\n",
            " 0.43770516 0.5570052  0.13497871 0.55187255 0.21420386 0.5582254\n",
            " 0.21387652 0.21549803 0.8093308  0.3138796  0.5920043  0.5558164\n",
            " 0.891936   1.9587765  1.5126146  0.12712406 1.5177063  0.1123994\n",
            " 0.35417587 1.3173946  1.6691356  0.13987197 0.35223296 1.0860132\n",
            " 0.74389595 1.1109277  0.4260072  0.22549862 0.8564485  0.48174158\n",
            " 0.7914042  0.2538042  0.4155691  0.48774922 0.68142414 0.27421105\n",
            " 0.35752818 0.5007192  1.8108847  0.51147556 0.5003998  0.48812714\n",
            " 0.9248901  0.29771188 0.8016818  0.7079907  0.4216565  0.16957925\n",
            " 0.4322373  0.3067177  0.29130438 1.7431663  0.7683561  1.106826\n",
            " 0.1356976  0.14523003 0.91247165 3.9400506  0.5994422  1.928073\n",
            " 1.709505   0.5877372  0.642782   0.6925949  0.8206672  0.7999664\n",
            " 1.193152   0.18633823 1.3804747  1.3135291  0.30177405 1.3904176\n",
            " 0.94085133 0.7329105  1.0930209  0.10537187 0.9312842  0.8722548\n",
            " 1.227224   0.3525913  0.8470245  0.7228657  0.54772806 0.8904884\n",
            " 0.4162393  0.6520432  0.22214782 0.8900187  1.183271   0.7675636\n",
            " 0.1936663  0.378155   0.71719784 0.28758672 0.42051062 0.88010156\n",
            " 1.9863333  0.31855148 0.7986099  0.8871505  0.49851114 0.2608807\n",
            " 0.44274706 0.28795406 0.329282   0.6163416  0.03432377 0.952804\n",
            " 0.5537691  0.70907545 0.6848933  0.20515867 0.06171288 1.1791863\n",
            " 1.4506621  1.1509558  0.4687054  0.45696086 0.481108   0.51282465\n",
            " 0.3991362  0.7872396  0.84722894 0.37550268 0.43526813 2.0385797\n",
            " 0.14947656 0.30006626 0.40080252 0.23072611 0.40295103 0.25147963\n",
            " 0.7598297  0.5862996  0.594335   0.80702204 0.2673075  1.7178125\n",
            " 0.21353962 0.9550863  0.36555484 0.9681052  0.8345006  0.32628998\n",
            " 0.05401888 0.5423791  0.4638358  0.48529908 0.41527644 0.7176675\n",
            " 0.6439286  0.24987897 0.7546164  0.6241766  0.6459017  0.65737206\n",
            " 0.2607655  0.7651235  0.364748   2.4990509  1.5204623  1.2066756\n",
            " 0.59160244 2.194937   0.7330148  0.4290977  0.7118157  0.20975126\n",
            " 1.5881038  2.082986   0.38863438 0.89688283 1.3431665  1.5349357\n",
            " 1.2060843  0.5868135  0.39582527 0.20337297 0.74442965 0.5823162\n",
            " 0.49100393 0.82808745 0.25657216 0.17192557 0.43188334 1.8860601\n",
            " 0.14544255 0.24161372 0.53222317 0.19116606 1.2078248  0.953159\n",
            " 0.6406234  1.9186841  0.68313396 0.7144757  1.5467373  0.2004101\n",
            " 0.41465372 0.16809154 1.0638287  0.1034047  0.35053873 0.4698542\n",
            " 0.3625385  0.39258838 1.7353944  0.3202873  1.208712   0.22073124\n",
            " 1.4192299  0.76999235 0.30462036 0.5018003  2.0153368  0.58627176\n",
            " 0.36935642 0.07061185 0.9295661  1.5268677  0.86930263 0.4570434\n",
            " 0.22488499 1.0959377  0.3788078  0.4001778  2.8134763  1.3538634\n",
            " 0.24833803 0.6875054  2.6331916  0.18853725 1.1082679  2.0688171\n",
            " 0.67153126 0.5795484  0.30720776 0.2195424  0.92146796 0.4246757\n",
            " 0.62201405 2.1900246  0.602821   0.32442066 0.45732534 0.64768344\n",
            " 0.58464205 0.4910644  0.51140946 0.748089   0.21344787 0.43866614\n",
            " 0.47003192 0.23865588 0.3450903  0.6049222  1.341035   0.34132424\n",
            " 0.24834807 0.7205519  0.31719843 0.75950634 0.36607948 4.095833\n",
            " 0.30788285 1.355388   0.28588536 0.72633874 0.7104001  0.6715272\n",
            " 0.252245   1.1894767  0.7983203  0.49731398 0.30073744 1.2223848\n",
            " 0.918083   0.58443874 0.42898127 0.49612883 0.74798816 0.46091676\n",
            " 0.43193385 0.5667715  0.19753511 1.0677186  0.45995018 0.42527872\n",
            " 0.90706575 0.18948348 0.1351294  0.90783685 0.43906495 0.4561155\n",
            " 0.8741074  0.19308162]\n",
            "Upserted embedding for video: ./train/country_line_dancing/bTbC3w_NIvM.mp4\n",
            "[0.21050341 1.9282078  0.33008516 0.9652355  0.39105898 0.3221688\n",
            " 0.17434785 0.8000606  0.19559923 0.5703147  0.45680037 1.4490441\n",
            " 1.2585889  0.48027068 1.6570767  0.4199182  3.2317872  0.95400625\n",
            " 0.41809732 0.88744545 0.3445569  0.7984946  1.3553318  2.011058\n",
            " 0.8497524  0.72249883 1.285922   0.5325743  0.75879216 1.4728527\n",
            " 0.48450673 1.2957065  1.5130382  0.56260836 0.32042524 0.73557675\n",
            " 0.25519863 0.7882707  0.97179395 1.5158938  0.33045262 0.5890054\n",
            " 2.670103   0.3486794  1.1205244  0.5196176  0.29554865 0.88021576\n",
            " 1.3450168  0.07081879 0.47095287 0.5017937  0.93416715 0.8613713\n",
            " 0.31127262 1.258431   1.0764332  0.63810563 1.8611519  1.5414535\n",
            " 0.45373657 0.1637575  1.2147305  1.0004935  0.0907259  0.61426955\n",
            " 0.5075365  1.3629354  1.23921    0.35057843 0.59699756 0.85629284\n",
            " 1.7125429  0.22603431 1.5238776  0.76029813 0.89316833 0.37287632\n",
            " 1.7747439  0.764556   1.3971472  0.7197346  0.49959    0.60005486\n",
            " 0.74017304 0.254956   0.41290388 0.3083796  3.6466284  1.4393876\n",
            " 0.81151074 0.3368184  1.9978347  0.83034843 1.8414344  0.23009409\n",
            " 0.7300739  2.4030504  0.50066006 2.3461125  0.14637664 1.9637073\n",
            " 1.1427413  0.19253558 0.959185   0.41372138 1.2767422  0.33063045\n",
            " 0.6324976  0.86129445 3.045644   1.0468069  1.2204536  1.3626224\n",
            " 0.39428234 2.6712174  1.1519332  0.1434546  0.4999671  0.5952959\n",
            " 0.32459298 0.16545638 0.56420326 1.0464638  0.7664232  1.5116771\n",
            " 0.291152   1.051467   0.20224772 0.5371778  0.7774448  0.36166388\n",
            " 0.52891976 0.67168677 1.8172302  0.6960306  0.22744244 2.2964907\n",
            " 0.22543874 0.5606499  0.34553492 0.16753663 0.8388405  2.0403948\n",
            " 2.3500497  0.92496794 0.53615785 3.0516658  1.2074096  0.6301937\n",
            " 0.8888571  0.3566976  0.65412235 0.5098284  0.34668028 0.7246748\n",
            " 0.9250062  0.3282988  0.55390066 1.4020298  1.6243525  0.9682056\n",
            " 0.5231944  1.1819043  0.39777866 0.35992047 0.606073   0.19436513\n",
            " 1.4408438  0.6636347  1.8004537  1.1301681  2.0425756  0.13251282\n",
            " 1.8884389  0.95398206 2.1873055  0.3599372  0.27490953 0.28277513\n",
            " 0.5849551  0.5951121  0.66700107 0.5623937  1.0548607  0.44679528\n",
            " 0.54738706 1.3963612  0.3403671  1.5798228  1.4035419  0.41904834\n",
            " 1.9512286  0.9918442  0.533937   1.3633454  0.5661616  0.5864222\n",
            " 0.6743236  1.230175   0.7438467  0.61018604 0.19299723 0.78871536\n",
            " 0.14130494 1.1025838  0.2117801  0.83958477 0.22482    0.09788803\n",
            " 0.7231288  1.0404305  0.61708844 0.7923812  1.248845   0.60486865\n",
            " 0.47373357 0.2894016  1.4232004  0.8852371  0.38935488 0.19383793\n",
            " 0.1713265  1.7470115  0.20619546 0.22731277 3.0533953  0.75825065\n",
            " 0.05094384 1.16852    1.5579076  0.42424554 2.2828243  0.12900944\n",
            " 1.0754335  1.2191149  0.7058258  0.35004562 0.84196985 0.34815648\n",
            " 0.85711485 0.9010258  0.6604856  1.062688   0.64863414 0.5739735\n",
            " 0.9463744  0.7914471  0.49791178 0.15663324 1.4022486  0.8000036\n",
            " 0.2508316  0.78181916 2.339147   0.24397534 0.52405447 0.26740065\n",
            " 2.442041   0.9190939  0.8058271  0.477173   0.71237653 0.1102345\n",
            " 0.10886347 0.4858047  0.6807476  1.1934037  0.88681734 1.9835743\n",
            " 0.451857   0.5916854  1.4767159  3.2481265  1.2341094  3.5331225\n",
            " 1.0774356  0.62854624 0.66713107 0.9530211  0.09052422 0.3994666\n",
            " 0.5317846  0.5067119  0.4622474  0.29169777 0.5434281  1.6041394\n",
            " 1.5277771  0.9368881  3.3390603  0.57669324 1.363713   1.7138286\n",
            " 0.9998012  2.6324565  0.6228783  0.07782393 0.66665804 0.7528664\n",
            " 0.08198927 0.45555314 0.19418557 0.9493581  0.30361763 1.4140455\n",
            " 0.16419081 0.48185873 1.4408628  0.98201174 0.19858079 0.89947355\n",
            " 2.4441729  0.7727943  0.5006542  1.4996362  0.7857953  0.41732177\n",
            " 0.4063472  0.22448853 0.31606424 0.9977426  0.05730029 0.43608016\n",
            " 1.0861582  0.3519118  0.12299848 0.3817763  0.24013056 0.48967052\n",
            " 1.4594687  0.6195192  0.42657617 0.47200292 0.6605156  0.82323474\n",
            " 1.1021036  1.9827425  0.3131061  1.4135648  0.8576669  0.4713301\n",
            " 0.27823114 0.8477947  2.6780756  0.41518304 0.3829938  0.14208362\n",
            " 0.35146844 0.5270163  1.3053029  1.2206779  0.63965666 2.8228292\n",
            " 0.28383893 1.3100594  0.11462447 0.23879394 0.59002215 0.42287287\n",
            " 0.1712784  0.44710094 0.15602946 0.5287482  0.5110624  0.7807095\n",
            " 0.06261379 0.8910436  0.18288258 0.14550291 0.7666059  0.98602164\n",
            " 0.40903947 0.3961995  2.9619765  1.8578445  0.38723713 1.2505113\n",
            " 1.0505319  0.8561511  0.25493735 0.6178717  0.33883747 1.7196889\n",
            " 1.3474187  1.9182768  0.25704718 0.59611654 0.43895972 1.1488507\n",
            " 0.77195853 0.3655849  0.58283794 0.182586   0.41776735 0.28876832\n",
            " 0.44077516 0.8669562  0.755196   0.14681797 0.37718448 2.434038\n",
            " 0.3627301  1.6014658  0.57156736 0.35564107 0.95095146 0.855337\n",
            " 0.8450039  1.8288605  0.75527215 0.882666   1.0542328  0.12208942\n",
            " 0.38315272 0.46570876 2.2425559  0.19115044 0.33581185 0.39246222\n",
            " 0.39128163 0.9346918  0.8383304  0.16227345 1.6768881  0.51917356\n",
            " 0.6500289  1.1874868  0.4447064  0.20769224 3.0911987  0.21776581\n",
            " 0.6618452  0.9312613  0.95485187 2.0768774  1.815293   0.46388438\n",
            " 1.3293891  0.8359022  1.1167098  0.7010328  2.0207589  0.6428914\n",
            " 0.28025445 0.4670616  3.5749447  0.7252772  1.0838524  1.9623004\n",
            " 0.4432165  1.0310099  0.6573116  0.3142103  0.67209935 0.3832058\n",
            " 0.7166114  2.1464288  0.6062601  1.1974276  0.6985201  0.3512687\n",
            " 0.8670451  0.3015312  0.93418825 1.6393027  0.26187333 0.6744643\n",
            " 0.9369793  0.39168295 1.2530664  0.6132359  1.3816453  0.8246966\n",
            " 1.3779982  0.6992298  0.19900675 0.7916608  0.42236617 4.4957485\n",
            " 1.1254593  1.051145   0.8848938  2.3014524  0.4101254  0.26888764\n",
            " 1.3970926  1.5141389  0.17217927 0.21939667 0.30602777 2.6696746\n",
            " 0.47231975 0.79206914 0.20496655 0.8469003  0.59764636 0.2634447\n",
            " 0.33101758 0.44828528 0.936385   0.34928927 0.340478   0.73511934\n",
            " 1.4855641  0.1332575  0.58879    1.5459026  0.6797602  2.7350745\n",
            " 0.8363214  0.6865206 ]\n",
            "Upserted embedding for video: ./train/country_line_dancing/n2dWtEmNn5c.mp4\n",
            "[2.81399429e-01 1.13089263e+00 1.53243446e+00 3.22696900e+00\n",
            " 2.13409483e-01 8.89399871e-02 5.76145530e-01 1.50178289e+00\n",
            " 9.04217601e-01 7.18798816e-01 6.10684693e-01 5.54641604e-01\n",
            " 6.97114587e-01 7.83872902e-01 4.08773333e-01 1.24779701e+00\n",
            " 1.24073184e+00 1.50377333e+00 4.67946827e-01 2.52942115e-01\n",
            " 1.07214861e-01 8.47476721e-01 5.71857691e-01 2.56482959e+00\n",
            " 8.94471884e-01 1.63689002e-01 6.63710460e-02 1.43782330e+00\n",
            " 4.68940407e-01 2.65405107e+00 9.94347215e-01 1.09393167e+00\n",
            " 3.13722491e-01 2.11903477e+00 1.26608157e+00 6.58045053e-01\n",
            " 2.25563240e+00 5.74158669e-01 1.22441936e+00 9.09067392e-01\n",
            " 1.53294235e-01 6.52232468e-01 1.42379713e+00 4.15300965e-01\n",
            " 6.29731894e-01 2.01711488e+00 5.68576813e-01 1.13002908e+00\n",
            " 4.27190691e-01 2.50045121e-01 3.81246746e-01 2.14321566e+00\n",
            " 1.32396102e+00 9.17707086e-01 1.79714356e-02 9.22791481e-01\n",
            " 5.06709099e-01 1.61123002e+00 1.08712602e+00 2.94434279e-01\n",
            " 6.90811574e-01 7.87025511e-01 5.51274180e-01 8.86482477e-01\n",
            " 1.86865222e+00 1.55190587e+00 2.39842367e+00 1.06170106e+00\n",
            " 1.87575495e+00 7.19104707e-01 1.37934804e+00 1.09667420e+00\n",
            " 1.27449191e+00 1.36914885e+00 1.23259830e+00 2.79582083e-01\n",
            " 6.54604733e-02 7.60754406e-01 2.07730681e-01 5.40147901e-01\n",
            " 5.54902256e-01 2.12352347e+00 9.35647845e-01 5.02444983e-01\n",
            " 9.50069845e-01 6.82316005e-01 8.60392869e-01 8.91465008e-01\n",
            " 3.74581480e+00 1.98803377e+00 1.65079665e+00 2.43464160e+00\n",
            " 5.63222289e-01 8.84548873e-02 6.63050830e-01 4.27336067e-01\n",
            " 1.72571158e+00 1.65445459e+00 4.17039454e-01 1.58562422e-01\n",
            " 4.66374755e-02 3.54359090e-01 8.15829456e-01 4.85382199e-01\n",
            " 1.20018423e+00 4.11552757e-01 7.25100517e-01 7.10787058e-01\n",
            " 6.54254496e-01 1.89274907e+00 4.96791315e+00 7.45954216e-01\n",
            " 1.92580909e-01 1.98696136e+00 1.44530892e+00 2.37221479e-01\n",
            " 5.96367121e-01 7.51219332e-01 1.60204306e-01 2.60927320e-01\n",
            " 9.24649060e-01 2.45302603e-01 1.43865931e+00 7.42188931e-01\n",
            " 2.02742863e+00 1.00519925e-01 1.32402790e+00 6.27906740e-01\n",
            " 2.01492524e+00 8.01983297e-01 5.49225986e-01 1.49193466e+00\n",
            " 4.99133945e-01 9.50231791e-01 1.94685411e+00 2.10269511e-01\n",
            " 4.25197147e-02 2.34623170e+00 9.36901629e-01 1.47420192e+00\n",
            " 1.23964362e-01 7.96643913e-01 8.62287283e-01 7.48273194e-01\n",
            " 4.70088661e-01 5.82550645e-01 2.38539383e-01 2.83357143e-01\n",
            " 1.96382672e-01 1.13154912e+00 1.03725195e+00 1.43105477e-01\n",
            " 3.95023131e+00 1.21204399e-01 1.23316920e+00 7.47626483e-01\n",
            " 4.85509545e-01 2.25218162e-01 1.17490816e+00 1.49031258e+00\n",
            " 1.03872752e+00 7.74807394e-01 9.25993025e-01 2.43422651e+00\n",
            " 3.25677514e+00 1.31280467e-01 7.37513721e-01 2.50372976e-01\n",
            " 9.64876473e-01 1.17032349e+00 1.27708483e+00 3.02549511e-01\n",
            " 1.64862025e+00 3.39401129e-04 4.26750422e+00 3.09809542e+00\n",
            " 7.06459939e-01 1.32645392e+00 5.37296534e-01 9.20217156e-01\n",
            " 5.07352315e-02 1.74080348e+00 5.43468475e-01 2.93496132e+00\n",
            " 3.07231933e-01 1.20115530e+00 2.52011847e+00 4.34119493e-01\n",
            " 7.71029770e-01 1.21096027e+00 2.62770593e-01 5.05777717e-01\n",
            " 2.21241713e+00 4.16761130e-01 6.25912786e-01 1.94989800e-01\n",
            " 4.79159027e-01 9.39590454e-01 2.78565854e-01 1.71191859e+00\n",
            " 1.00472212e+00 2.61658996e-01 1.36385500e-01 1.01221430e+00\n",
            " 6.90790042e-02 1.53880560e+00 3.71267438e-01 7.32207745e-02\n",
            " 1.16413689e+00 2.31529042e-01 6.49079740e-01 2.02608898e-01\n",
            " 4.53768283e-01 8.98512602e-01 7.42298782e-01 6.46508455e-01\n",
            " 6.07950032e-01 6.11972749e-01 3.50424349e-01 1.07190752e+00\n",
            " 1.18568385e+00 1.78783619e+00 1.49360910e-01 1.15099597e+00\n",
            " 4.02276099e-01 6.95030034e-01 1.91828072e+00 1.54846740e+00\n",
            " 4.28357303e-01 8.83358836e-01 1.31172419e+00 1.37006772e+00\n",
            " 9.47139502e-01 2.06634498e+00 4.47896689e-01 5.58011711e-01\n",
            " 6.22870326e-01 3.62374336e-01 3.91931355e-01 1.01579833e+00\n",
            " 6.08597040e-01 9.53426123e-01 2.70995855e-01 5.32032728e-01\n",
            " 1.05833423e+00 4.56600785e-01 1.16526091e+00 1.36555946e+00\n",
            " 1.43615079e+00 3.18803966e-01 1.06942549e-01 1.28920805e+00\n",
            " 3.45395654e-01 9.71139550e-01 2.72240615e+00 8.54510903e-01\n",
            " 5.79595029e-01 9.02684510e-01 2.94973373e+00 3.62441212e-01\n",
            " 1.16825655e-01 1.24010630e-01 8.48197401e-01 1.10584788e-01\n",
            " 1.22377098e+00 7.20932662e-01 1.51871860e+00 1.65413427e+00\n",
            " 3.03169399e-01 1.43599308e+00 7.34058142e-01 5.45402952e-02\n",
            " 3.69563937e+00 2.40287018e+00 2.02253029e-01 1.71440673e+00\n",
            " 9.50119078e-01 1.75491452e+00 5.37870936e-02 2.36903697e-01\n",
            " 9.09567326e-02 3.71019989e-01 9.22595739e-01 7.96690941e-01\n",
            " 5.63345015e-01 3.37224990e-01 6.67675614e-01 6.58239722e-01\n",
            " 3.28117728e-01 1.06014299e+00 1.62070251e+00 1.26963365e+00\n",
            " 1.20782375e+00 1.42693734e+00 2.09140038e+00 1.91499138e+00\n",
            " 7.07279027e-01 1.21654570e+00 1.36931121e+00 7.22389638e-01\n",
            " 5.55162430e-01 1.28328249e-01 3.47634465e-01 3.95584732e-01\n",
            " 2.88972497e-01 7.59587526e-01 9.05539319e-02 1.33218133e+00\n",
            " 6.27844095e-01 8.88390541e-01 4.45397235e-02 1.68610394e+00\n",
            " 1.37413275e+00 1.84700817e-01 1.71196014e-01 1.56330991e+00\n",
            " 7.15261519e-01 1.53082108e+00 1.35851598e+00 6.17644310e-01\n",
            " 1.47112930e+00 1.78617144e+00 1.00068398e-01 4.92083400e-01\n",
            " 1.41628337e+00 1.93248555e-01 1.02434687e-01 2.75073759e-02\n",
            " 1.10395336e+00 5.09215713e-01 2.01581454e+00 2.96123534e-01\n",
            " 1.42620122e+00 5.07184863e-02 1.66358829e+00 2.25732952e-01\n",
            " 8.40672374e-01 2.50890940e-01 1.47864461e+00 1.22121680e+00\n",
            " 4.67358828e-01 1.51218021e+00 5.16215116e-02 3.52661312e-01\n",
            " 2.90926242e+00 1.92475408e-01 7.79563129e-01 9.17558134e-01\n",
            " 1.15449272e-01 1.85966480e+00 3.86725962e-01 1.14119041e+00\n",
            " 1.82644331e+00 3.33345562e-01 1.50867271e+00 5.88272214e-01\n",
            " 9.90647018e-01 2.14815092e+00 1.66136527e+00 7.99978733e-01\n",
            " 1.17916882e+00 2.84930563e+00 5.54562569e-01 2.30376649e+00\n",
            " 7.29794502e-01 2.76828408e-01 4.02722210e-01 2.40385294e-01\n",
            " 1.60362512e-01 7.07122922e-01 2.38498494e-01 1.16952527e+00\n",
            " 9.61772561e-01 4.33177441e-01 9.31552351e-01 3.47675657e+00\n",
            " 1.48023117e+00 2.54043150e+00 9.49289441e-01 3.69098276e-01\n",
            " 8.34215701e-01 7.85916626e-01 1.12713003e+00 1.47804666e+00\n",
            " 3.48727793e-01 1.47581911e+00 3.75114411e-01 1.56867933e+00\n",
            " 1.17851801e-01 1.21850431e+00 2.60619581e-01 4.60969090e-01\n",
            " 7.77376413e-01 5.97258732e-02 2.62278438e+00 2.07213163e+00\n",
            " 9.87800419e-01 1.55853033e+00 1.65053320e+00 1.74179113e+00\n",
            " 9.81486291e-02 8.66415083e-01 5.16211808e-01 8.11472595e-01\n",
            " 3.64284134e+00 6.61321878e-01 1.57126856e+00 1.93929160e+00\n",
            " 3.66150528e-01 3.26765585e+00 3.35556567e-01 1.36195302e+00\n",
            " 1.65112901e+00 3.45341384e-01 2.07877308e-01 8.43577504e-01\n",
            " 1.29932463e+00 2.19191596e-01 8.49270403e-01 1.18822026e+00\n",
            " 1.72844604e-01 6.71629965e-01 1.89304340e+00 1.54914021e+00\n",
            " 1.34742463e+00 4.67274785e-01 1.56544459e+00 1.31762302e+00\n",
            " 7.84959137e-01 4.60000455e-01 2.04824662e+00 5.99540651e-01\n",
            " 1.61698020e+00 3.99007320e-01 9.78034019e-01 4.97712761e-01\n",
            " 1.13849115e+00 3.15727830e-01 2.30242872e+00 3.53373408e-01\n",
            " 1.13402545e+00 2.12056565e+00 1.47400427e+00 1.41457856e+00\n",
            " 3.22076455e-02 5.83373725e-01 3.30250239e+00 4.31319475e-01\n",
            " 2.01013708e+00 7.99587905e-01 1.96006656e+00 1.11546040e+00\n",
            " 1.81257832e+00 6.58324718e-01 1.75480807e+00 2.24662566e+00\n",
            " 1.09333825e+00 1.32750404e+00 4.36091006e-01 5.51493287e-01\n",
            " 5.38205445e-01 5.44510782e-01 1.23370290e+00 1.28845382e+00\n",
            " 2.22488493e-01 2.73101878e+00 5.57775319e-01 7.44944334e-01\n",
            " 1.44375694e+00 2.50605315e-01 2.13220906e+00 7.53676713e-01\n",
            " 5.80166101e-01 6.10953212e-01 2.17216104e-01 5.68121791e-01\n",
            " 1.15975964e+00 3.00155938e-01 2.23648865e-02 2.92309570e+00\n",
            " 8.18280101e-01 3.00984502e-01 1.29752362e+00 1.16238606e+00\n",
            " 9.02496934e-01 2.39014745e+00 1.72352028e+00 1.10880268e+00\n",
            " 9.67720449e-01 4.56297636e-01 5.92333674e-01 8.42503428e-01\n",
            " 3.64683479e-01 6.89044893e-01 5.57856560e-01 2.80888509e-02\n",
            " 3.48378778e-01 6.02608562e-01 7.55016327e-01 1.51133454e+00\n",
            " 3.90843228e-02 1.21872485e+00 4.75697488e-01 1.28604841e+00\n",
            " 6.03386521e-01 1.23854506e+00 1.52802408e-01 1.65691292e+00\n",
            " 1.17565358e+00 1.62791324e+00 1.82587534e-01 1.01201880e+00]\n",
            "Upserted embedding for video: ./train/country_line_dancing/zta-Iv-xK7I.mp4\n"
          ]
        }
      ]
    },
    {
      "cell_type": "code",
      "source": [
        "!ls /usr/local/lib/python3.10/dist-packages/bmf/lib/"
      ],
      "metadata": {
        "id": "IryQGbmaUzY4",
        "colab": {
          "base_uri": "https://localhost:8080/"
        },
        "outputId": "715ef089-6f83-4562-c134-abf9bbc1e6cd"
      },
      "execution_count": null,
      "outputs": [
        {
          "output_type": "stream",
          "name": "stdout",
          "text": [
            "_bmf.cpython-310-x86_64-linux-gnu.so  libbmf_module_sdk.so.0\t   libengine.so.0\n",
            "_hmp.cpython-310-x86_64-linux-gnu.so  libbmf_module_sdk.so.0.0.9   libengine.so.0.0.9\n",
            "libbackward.a\t\t\t      libbmf_py_loader.so\t   libfmt.a\n",
            "libbenchmark.a\t\t\t      libbuiltin_modules.so\t   libhmp.so\n",
            "libbenchmark_main.a\t\t      libbuiltin_modules.so.0\t   libhmp.so.1\n",
            "libbmf_go_loader.so\t\t      libbuiltin_modules.so.0.0.9  libhmp.so.1.2.0\n",
            "libbmf_module_sdk.so\t\t      libengine.so\t\t   libspdlog.a\n"
          ]
        }
      ]
    },
    {
      "cell_type": "code",
      "source": [
        "%env LIBRARY_PATH=$LIBRARY_PATH:/usr/local/lib/python3.10/dist-packages/bmf/lib"
      ],
      "metadata": {
        "id": "AEhe0LzZUz-6",
        "colab": {
          "base_uri": "https://localhost:8080/"
        },
        "outputId": "daad01c0-0e69-4ab7-eeb2-4c57fdf2e9cc"
      },
      "execution_count": null,
      "outputs": [
        {
          "output_type": "stream",
          "name": "stdout",
          "text": [
            "env: LIBRARY_PATH=$LIBRARY_PATH:/usr/local/lib/python3.10/dist-packages/bmf/lib\n"
          ]
        }
      ]
    },
    {
      "cell_type": "code",
      "source": [
        "!sudo apt install ffmpeg"
      ],
      "metadata": {
        "id": "nxyKHOb4Tzz-",
        "colab": {
          "base_uri": "https://localhost:8080/"
        },
        "outputId": "a79e277b-5dd3-4a6b-f7d0-eebcd1bb84ce"
      },
      "execution_count": null,
      "outputs": [
        {
          "output_type": "stream",
          "name": "stdout",
          "text": [
            "Reading package lists... Done\n",
            "Building dependency tree... Done\n",
            "Reading state information... Done\n",
            "ffmpeg is already the newest version (7:4.4.2-0ubuntu0.22.04.1).\n",
            "0 upgraded, 0 newly installed, 0 to remove and 45 not upgraded.\n"
          ]
        }
      ]
    },
    {
      "cell_type": "code",
      "source": [
        "!sudo apt install libdw1"
      ],
      "metadata": {
        "id": "baoL7drrT0r1",
        "colab": {
          "base_uri": "https://localhost:8080/"
        },
        "outputId": "28ebb29b-d550-49e0-8d18-bf9643dd0071"
      },
      "execution_count": null,
      "outputs": [
        {
          "output_type": "stream",
          "name": "stdout",
          "text": [
            "Reading package lists... Done\n",
            "Building dependency tree... Done\n",
            "Reading state information... Done\n",
            "libdw1 is already the newest version (0.186-1build1).\n",
            "libdw1 set to manually installed.\n",
            "0 upgraded, 0 newly installed, 0 to remove and 45 not upgraded.\n"
          ]
        }
      ]
    },
    {
      "cell_type": "code",
      "source": [
        "!dpkg -l | grep -i ffmpeg"
      ],
      "metadata": {
        "id": "8pzgemZHT3pg",
        "colab": {
          "base_uri": "https://localhost:8080/"
        },
        "outputId": "2557eaaf-497a-4a6c-df3e-0c7e4fcf7efa"
      },
      "execution_count": null,
      "outputs": [
        {
          "output_type": "stream",
          "name": "stdout",
          "text": [
            "ii  ffmpeg                                    7:4.4.2-0ubuntu0.22.04.1                amd64        Tools for transcoding, streaming and playing of multimedia files\n",
            "ii  libavcodec-dev:amd64                      7:4.4.2-0ubuntu0.22.04.1                amd64        FFmpeg library with de/encoders for audio/video codecs - development files\n",
            "ii  libavcodec58:amd64                        7:4.4.2-0ubuntu0.22.04.1                amd64        FFmpeg library with de/encoders for audio/video codecs - runtime files\n",
            "ii  libavdevice58:amd64                       7:4.4.2-0ubuntu0.22.04.1                amd64        FFmpeg library for handling input and output devices - runtime files\n",
            "ii  libavfilter7:amd64                        7:4.4.2-0ubuntu0.22.04.1                amd64        FFmpeg library containing media filters - runtime files\n",
            "ii  libavformat-dev:amd64                     7:4.4.2-0ubuntu0.22.04.1                amd64        FFmpeg library with (de)muxers for multimedia containers - development files\n",
            "ii  libavformat58:amd64                       7:4.4.2-0ubuntu0.22.04.1                amd64        FFmpeg library with (de)muxers for multimedia containers - runtime files\n",
            "ii  libavutil-dev:amd64                       7:4.4.2-0ubuntu0.22.04.1                amd64        FFmpeg library with functions for simplifying programming - development files\n",
            "ii  libavutil56:amd64                         7:4.4.2-0ubuntu0.22.04.1                amd64        FFmpeg library with functions for simplifying programming - runtime files\n",
            "ii  libpostproc55:amd64                       7:4.4.2-0ubuntu0.22.04.1                amd64        FFmpeg library for post processing - runtime files\n",
            "ii  libswresample-dev:amd64                   7:4.4.2-0ubuntu0.22.04.1                amd64        FFmpeg library for audio resampling, rematrixing etc. - development files\n",
            "ii  libswresample3:amd64                      7:4.4.2-0ubuntu0.22.04.1                amd64        FFmpeg library for audio resampling, rematrixing etc. - runtime files\n",
            "ii  libswscale-dev:amd64                      7:4.4.2-0ubuntu0.22.04.1                amd64        FFmpeg library for image scaling and various conversions - development files\n",
            "ii  libswscale5:amd64                         7:4.4.2-0ubuntu0.22.04.1                amd64        FFmpeg library for image scaling and various conversions - runtime files\n"
          ]
        }
      ]
    },
    {
      "cell_type": "code",
      "source": [
        "!ffmpeg -version"
      ],
      "metadata": {
        "id": "5NxAfdEBT7Pl",
        "colab": {
          "base_uri": "https://localhost:8080/"
        },
        "outputId": "8bbc3491-8f5a-4385-f96f-cdf0832ff480"
      },
      "execution_count": null,
      "outputs": [
        {
          "output_type": "stream",
          "name": "stdout",
          "text": [
            "ffmpeg version 4.4.2-0ubuntu0.22.04.1 Copyright (c) 2000-2021 the FFmpeg developers\n",
            "built with gcc 11 (Ubuntu 11.2.0-19ubuntu1)\n",
            "configuration: --prefix=/usr --extra-version=0ubuntu0.22.04.1 --toolchain=hardened --libdir=/usr/lib/x86_64-linux-gnu --incdir=/usr/include/x86_64-linux-gnu --arch=amd64 --enable-gpl --disable-stripping --enable-gnutls --enable-ladspa --enable-libaom --enable-libass --enable-libbluray --enable-libbs2b --enable-libcaca --enable-libcdio --enable-libcodec2 --enable-libdav1d --enable-libflite --enable-libfontconfig --enable-libfreetype --enable-libfribidi --enable-libgme --enable-libgsm --enable-libjack --enable-libmp3lame --enable-libmysofa --enable-libopenjpeg --enable-libopenmpt --enable-libopus --enable-libpulse --enable-librabbitmq --enable-librubberband --enable-libshine --enable-libsnappy --enable-libsoxr --enable-libspeex --enable-libsrt --enable-libssh --enable-libtheora --enable-libtwolame --enable-libvidstab --enable-libvorbis --enable-libvpx --enable-libwebp --enable-libx265 --enable-libxml2 --enable-libxvid --enable-libzimg --enable-libzmq --enable-libzvbi --enable-lv2 --enable-omx --enable-openal --enable-opencl --enable-opengl --enable-sdl2 --enable-pocketsphinx --enable-librsvg --enable-libmfx --enable-libdc1394 --enable-libdrm --enable-libiec61883 --enable-chromaprint --enable-frei0r --enable-libx264 --enable-shared\n",
            "libavutil      56. 70.100 / 56. 70.100\n",
            "libavcodec     58.134.100 / 58.134.100\n",
            "libavformat    58. 76.100 / 58. 76.100\n",
            "libavdevice    58. 13.100 / 58. 13.100\n",
            "libavfilter     7.110.100 /  7.110.100\n",
            "libswscale      5.  9.100 /  5.  9.100\n",
            "libswresample   3.  9.100 /  3.  9.100\n",
            "libpostproc    55.  9.100 / 55.  9.100\n"
          ]
        }
      ]
    },
    {
      "cell_type": "code",
      "source": [
        "!pip install wurlitzer\n",
        "%load_ext wurlitzer"
      ],
      "metadata": {
        "colab": {
          "base_uri": "https://localhost:8080/"
        },
        "id": "pkyektIVT90q",
        "outputId": "6d1d99e9-7230-4f61-ab1e-c8dbb7593c38"
      },
      "execution_count": null,
      "outputs": [
        {
          "output_type": "stream",
          "name": "stdout",
          "text": [
            "Collecting wurlitzer\n",
            "  Downloading wurlitzer-3.0.3-py3-none-any.whl (7.3 kB)\n",
            "Installing collected packages: wurlitzer\n",
            "Successfully installed wurlitzer-3.0.3\n"
          ]
        }
      ]
    },
    {
      "cell_type": "code",
      "source": [
        "import os\n",
        "import glob\n",
        "import numpy as np\n",
        "import torch\n",
        "import torchvision.transforms as transforms\n",
        "import torchvision.models as models\n",
        "from pinecone import Pinecone\n",
        "import bmf\n",
        "import cv2\n",
        "\n",
        "PINECONE_API_KEY = os.environ[\"PINECONE_API_KEY\"]\n",
        "PINECONE_ENVIRONMENT = os.environ[\"PINECONE_ENVIRONMENT\"]\n",
        "PINECONE_DATABASE = os.environ[\"PINECONE_DATABASE\"]\n",
        "\n",
        "# Replace 'your_pinecone_api_key' with your actual Pinecone API key or use environment variables like I am here\n",
        "pc = Pinecone(api_key=PINECONE_API_KEY, environment=PINECONE_ENVIRONMENT)\n",
        "index = pc.Index(PINECONE_DATABASE)\n",
        "\n",
        "model = models.resnet18(pretrained=True)\n",
        "model.eval()\n",
        "#remove the last fully connectected layer\n",
        "model = torch.nn.Sequential(*list(model.children())[:-1])\n",
        "\n",
        "preprocess = transforms.Compose([\n",
        "    transforms.ToTensor(),\n",
        "    transforms.Resize((224, 224)),\n",
        "    transforms.Normalize(mean=[0.485, 0.456, 0.406], std=[0.229, 0.224, 0.225])\n",
        "])\n",
        "\n",
        "input_video_path = \"/content/linedancing.mp4\"\n",
        "output_path = \"./extracted-images/simple_%03d.jpg\"\n",
        "\n",
        "graph = bmf.graph({'dump_graph':1})\n",
        "video = graph.decode({\n",
        "    \"input_path\": input_video_path,\n",
        "}).fps(2)\n",
        "\n",
        "try:\n",
        "    (\n",
        "        bmf.encode(\n",
        "            video['video'],\n",
        "            None,\n",
        "            {\n",
        "                \"output_path\": output_path,\n",
        "                \"format\": \"image2\",\n",
        "                \"video_params\": {\"codec\": \"jpg\"},\n",
        "            }\n",
        "        ).run()\n",
        "    )\n",
        "    print(\"Frame extraction completed successfully.\")\n",
        "except Exception as e:\n",
        "    print(f\"Error during frame extraction: {str(e)}\")\n",
        "# Load the extracted query frames and generate embeddings\n",
        "query_frame_paths = glob.glob(output_path.replace(\"%03d\", \"*\"))\n",
        "query_embeddings = []\n",
        "\n",
        "for frame_path in query_frame_paths:\n",
        "    container = av.open(frame_path)\n",
        "    frame = next(container.decode(video=0))\n",
        "\n",
        "    img = frame.to_ndarray(format='rgb24')\n",
        "    img = preprocess(img)\n",
        "    img = img.unsqueeze(0)  # Add batch dimension\n",
        "\n",
        "    with torch.no_grad():\n",
        "        embedding = model(img)\n",
        "        embedding = embedding.squeeze().numpy()\n",
        "\n",
        "    query_embeddings.append(embedding)\n",
        "\n",
        "query_embeddings = np.array(query_embeddings)\n",
        "avg_query_embedding = np.mean(query_embeddings, axis=0)\n",
        "\n",
        "# Perform similarity search using Pinecone\n",
        "num_results = 5  # Number of similar videos to retrieve\n",
        "results = index.query(\n",
        "    vector=avg_query_embedding.tolist(),\n",
        "    top_k=num_results,\n",
        "    include_metadata=True,\n",
        "    namespace='video_embeddings'\n",
        ")\n",
        "\n",
        "# Print the most similar video paths\n",
        "for match in results['matches']:\n",
        "    video_path = match['id']\n",
        "    print(f\"Similar video: {video_path}\")"
      ],
      "metadata": {
        "id": "4ZvFwpCjUCKD",
        "colab": {
          "base_uri": "https://localhost:8080/"
        },
        "outputId": "ab411de7-2d1a-449d-93c0-b1504bd04cf8"
      },
      "execution_count": null,
      "outputs": [
        {
          "output_type": "stream",
          "name": "stdout",
          "text": [
            "{\n",
            "    \"input_streams\": [],\n",
            "    \"output_streams\": [],\n",
            "    \"nodes\": [\n",
            "        {\n",
            "            \"module_info\": {\n",
            "                \"name\": \"c_ffmpeg_decoder\",\n",
            "                \"type\": \"\",\n",
            "                \"path\": \"\",\n",
            "                \"entry\": \"\"\n",
            "            },\n",
            "            \"meta_info\": {\n",
            "                \"premodule_id\": -1,\n",
            "                \"callback_binding\": []\n",
            "            },\n",
            "            \"option\": {\n",
            "                \"input_path\": \"/content/linedancing.mp4\"\n",
            "            },\n",
            "            \"input_streams\": [],\n",
            "            \"output_streams\": [\n",
            "                {\n",
            "                    \"identifier\": \"c_ffmpeg_decoder_75_0\",\n",
            "                    \"stream_alias\": \"\"\n",
            "                }\n",
            "            ],\n",
            "            \"input_manager\": \"immediate\",\n",
            "            \"scheduler\": 0,\n",
            "            \"alias\": \"\",\n",
            "            \"id\": 75\n",
            "        },\n",
            "        {\n",
            "            \"module_info\": {\n",
            "                \"name\": \"c_ffmpeg_filter\",\n",
            "                \"type\": \"\",\n",
            "                \"path\": \"\",\n",
            "                \"entry\": \"\"\n",
            "            },\n",
            "            \"meta_info\": {\n",
            "                \"premodule_id\": -1,\n",
            "                \"callback_binding\": []\n",
            "            },\n",
            "            \"option\": {\n",
            "                \"name\": \"fps\",\n",
            "                \"para\": \"fps=2\"\n",
            "            },\n",
            "            \"input_streams\": [\n",
            "                {\n",
            "                    \"identifier\": \"c_ffmpeg_decoder_75_0\",\n",
            "                    \"stream_alias\": \"\"\n",
            "                }\n",
            "            ],\n",
            "            \"output_streams\": [\n",
            "                {\n",
            "                    \"identifier\": \"video:c_ffmpeg_filter_76_1\",\n",
            "                    \"stream_alias\": \"\"\n",
            "                }\n",
            "            ],\n",
            "            \"input_manager\": \"immediate\",\n",
            "            \"scheduler\": 0,\n",
            "            \"alias\": \"\",\n",
            "            \"id\": 76\n",
            "        },\n",
            "        {\n",
            "            \"module_info\": {\n",
            "                \"name\": \"c_ffmpeg_encoder\",\n",
            "                \"type\": \"\",\n",
            "                \"path\": \"\",\n",
            "                \"entry\": \"\"\n",
            "            },\n",
            "            \"meta_info\": {\n",
            "                \"premodule_id\": -1,\n",
            "                \"callback_binding\": []\n",
            "            },\n",
            "            \"option\": {\n",
            "                \"output_path\": \"./extracted-images/simple_%03d.jpg\",\n",
            "                \"format\": \"image2\",\n",
            "                \"video_params\": {\n",
            "                    \"codec\": \"jpg\"\n",
            "                }\n",
            "            },\n",
            "            \"input_streams\": [\n",
            "                {\n",
            "                    \"identifier\": \"c_ffmpeg_filter_76_1\",\n",
            "                    \"stream_alias\": \"\"\n",
            "                }\n",
            "            ],\n",
            "            \"output_streams\": [],\n",
            "            \"input_manager\": \"immediate\",\n",
            "            \"scheduler\": 1,\n",
            "            \"alias\": \"\",\n",
            "            \"id\": 77\n",
            "        }\n",
            "    ],\n",
            "    \"option\": {\n",
            "        \"dump_graph\": 1\n",
            "    },\n",
            "    \"mode\": \"Normal\"\n",
            "}\n",
            "[2024-04-03 23:57:04.040] [info] Constructing c++ module\n"
          ]
        },
        {
          "output_type": "stream",
          "name": "stderr",
          "text": [
            "Input #0, mov,mp4,m4a,3gp,3g2,mj2, from '/content/linedancing.mp4':\n",
            "  Metadata:\n",
            "    major_brand     : isom\n",
            "    minor_version   : 512\n",
            "    compatible_brands: isomiso2avc1mp41\n",
            "    encoder         : Lavf56.4.101\n",
            "  Duration: 00:00:12.00, start: 0.000000, bitrate: 359 kb/s\n",
            "  Stream #0:0(und): Video: h264 (High) (avc1 / 0x31637661), yuv420p, 340x256 [SAR 256:255 DAR 4:3], 227 kb/s, 25 fps, 25 tbr, 12800 tbn, 50 tbc (default)\n",
            "    Metadata:\n",
            "      handler_name    : VideoHandler\n",
            "      vendor_id       : [0][0][0][0]\n",
            "  Stream #0:1(und): Audio: aac (LC) (mp4a / 0x6134706D), 44100 Hz, stereo, fltp, 125 kb/s (default)\n",
            "    Metadata:\n",
            "      handler_name    : SoundHandler\n",
            "      vendor_id       : [0][0][0][0]\n"
          ]
        },
        {
          "output_type": "stream",
          "name": "stdout",
          "text": [
            "[2024-04-03 23:57:04.045] [info] c++ module constructed\n",
            "[2024-04-03 23:57:04.045] [info] Constructing c++ module\n",
            "[2024-04-03 23:57:04.045] [info] c++ module constructed\n",
            "[2024-04-03 23:57:04.045] [info] Constructing c++ module\n",
            "[2024-04-03 23:57:04.045] [info] c++ module constructed\n",
            "[2024-04-03 23:57:04.046] [info] BMF Version: 0.0.9\n",
            "[2024-04-03 23:57:04.046] [info] BMF Commit: e3c9730\n",
            "[2024-04-03 23:57:04.046] [info] start init graph\n",
            "[2024-04-03 23:57:04.046] [info] scheduler count2\n",
            "debug queue size, node 75, queue size: 5\n",
            "[2024-04-03 23:57:04.046] [info] node:c_ffmpeg_decoder 75 scheduler 0\n",
            "debug queue size, node 77, queue size: 5\n",
            "[2024-04-03 23:57:04.046] [info] node:c_ffmpeg_encoder 77 scheduler 1\n",
            "debug queue size, node 76, queue size: 5\n",
            "[2024-04-03 23:57:04.046] [info] Constructing c++ module\n",
            "[2024-04-03 23:57:04.046] [info] c++ module constructed\n",
            "[2024-04-03 23:57:04.046] [info] node:c_ffmpeg_filter 76 scheduler 0\n"
          ]
        },
        {
          "output_type": "stream",
          "name": "stderr",
          "text": [
            "Output #0, image2, to './extracted-images/simple_%03d.jpg':\n",
            "  Metadata:\n",
            "    encoder         : Lavf58.76.100\n",
            "  Stream #0:0: Video: mjpeg, yuvj444p(pc), 340x256 [SAR 256:255 DAR 4:3], q=2-31, 2 fps, 2 tbr, 2 tbn, 2 tbc\n",
            "[swscaler @ 0x7bc94408c600] deprecated pixel format used, make sure you did set range correctly\n"
          ]
        },
        {
          "output_type": "stream",
          "name": "stdout",
          "text": [
            "[2024-04-03 23:57:04.112] [info] node id:75 decode flushing\n",
            "[2024-04-03 23:57:04.112] [info] node id:75 Process node end\n",
            "[2024-04-03 23:57:04.114] [info] node id:75 close node\n",
            "[2024-04-03 23:57:04.114] [info] node 75 close report, closed count: 1\n",
            "[2024-04-03 23:57:04.114] [info] node id:76 eof received\n",
            "[2024-04-03 23:57:04.114] [info] node id:76 eof processed, remove node from scheduler\n",
            "[2024-04-03 23:57:04.114] [info] node id:76 process eof, add node to scheduler\n",
            "[2024-04-03 23:57:04.114] [info] node id:76 Process node end\n",
            "[2024-04-03 23:57:04.116] [info] node id:76 close node\n",
            "[2024-04-03 23:57:04.116] [info] node 76 close report, closed count: 2\n",
            "[2024-04-03 23:57:04.116] [info] node id:77 eof received\n",
            "[2024-04-03 23:57:04.116] [info] node id:77 eof processed, remove node from scheduler\n",
            "[2024-04-03 23:57:04.116] [info] node id:77 process eof, add node to scheduler\n",
            "[2024-04-03 23:57:04.118] [info] node id:77 Process node end\n",
            "[2024-04-03 23:57:04.118] [info] node id:77 close node\n",
            "[2024-04-03 23:57:04.118] [info] node 77 close report, closed count: 3\n",
            "[2024-04-03 23:57:04.118] [info] schedule queue 0 start to join thread\n",
            "[2024-04-03 23:57:04.118] [info] schedule queue 0 thread quit\n",
            "[2024-04-03 23:57:04.118] [info] schedule queue 0 closed\n",
            "[2024-04-03 23:57:04.118] [info] schedule queue 1 start to join thread\n",
            "[2024-04-03 23:57:04.118] [info] schedule queue 1 thread quit\n",
            "[2024-04-03 23:57:04.118] [info] schedule queue 1 closed\n",
            "[2024-04-03 23:57:04.118] [info] all scheduling threads were joint\n",
            "Frame extraction completed successfully.\n"
          ]
        },
        {
          "output_type": "stream",
          "name": "stderr",
          "text": [
            "WARNING:libav.swscaler:deprecated pixel format used, make sure you did set range correctly\n",
            "WARNING:libav.swscaler:deprecated pixel format used, make sure you did set range correctly\n",
            " (repeated 19 more times)\n",
            "WARNING:libav.swscaler:deprecated pixel format used, make sure you did set range correctly\n"
          ]
        },
        {
          "output_type": "stream",
          "name": "stdout",
          "text": [
            "Similar video: ./train/country_line_dancing/bTbC3w_NIvM.mp4\n",
            "Similar video: ./train/country_line_dancing/zta-Iv-xK7I.mp4\n",
            "Similar video: ./train/country_line_dancing/n2dWtEmNn5c.mp4\n"
          ]
        }
      ]
    },
    {
      "cell_type": "markdown",
      "source": [
        "You can also use BMF for both decoding the query video and extracting frames. Look below!"
      ],
      "metadata": {
        "id": "V4fedwcQasJ0"
      }
    },
    {
      "cell_type": "code",
      "source": [
        "import os\n",
        "import glob\n",
        "import numpy as np\n",
        "import torch\n",
        "import torchvision.transforms as transforms\n",
        "import torchvision.models as models\n",
        "from pinecone import Pinecone\n",
        "import bmf\n",
        "import cv2\n",
        "from IPython import display\n",
        "from PIL import Image\n",
        "\n",
        "PINECONE_API_KEY = os.environ[\"PINECONE_API_KEY\"]\n",
        "PINECONE_ENVIRONMENT = os.environ[\"PINECONE_ENVIRONMENT\"]\n",
        "PINECONE_DATABASE = os.environ[\"PINECONE_DATABASE\"]\n",
        "\n",
        "# Replace 'your_pinecone_api_key' with your actual Pinecone API key or use environment variables like I am here\n",
        "pc = Pinecone(api_key=PINECONE_API_KEY, environment=PINECONE_ENVIRONMENT)\n",
        "index = pc.Index(PINECONE_DATABASE)\n",
        "\n",
        "model = models.resnet18(pretrained=True)\n",
        "model.eval()\n",
        "#remove the last fully connectected layer\n",
        "model = torch.nn.Sequential(*list(model.children())[:-1])\n",
        "\n",
        "preprocess = transforms.Compose([\n",
        "    transforms.ToTensor(),\n",
        "    transforms.Resize((224, 224)),\n",
        "    transforms.Normalize(mean=[0.485, 0.456, 0.406], std=[0.229, 0.224, 0.225])\n",
        "])\n",
        "\n",
        "input_video_path = \"/content/linedancing.mp4\"\n",
        "output_path = \"./extracted-images/simple_%03d.jpg\"\n",
        "\n",
        "graph = bmf.graph({'dump_graph':1})\n",
        "video = graph.decode({\n",
        "    \"input_path\": input_video_path,\n",
        "}).fps(2)\n",
        "\n",
        "try:\n",
        "    (\n",
        "        bmf.encode(\n",
        "            video['video'],\n",
        "            None,\n",
        "            {\n",
        "                \"output_path\": output_path,\n",
        "                \"format\": \"image2\",\n",
        "                \"video_params\": {\"codec\": \"jpg\"},\n",
        "            }\n",
        "        ).run()\n",
        "    )\n",
        "    print(\"Frame extraction completed successfully.\")\n",
        "except Exception as e:\n",
        "    print(f\"Error during frame extraction: {str(e)}\")\n",
        "# Load the extracted query frames and generate embeddings\n",
        "query_frame_paths = glob.glob(output_path.replace(\"%03d\", \"*\"))\n",
        "query_embeddings = []\n",
        "\n",
        "for frame_path in query_frame_paths:\n",
        "    frame = cv2.imread(frame_path)\n",
        "    frame = cv2.cvtColor(frame, cv2.COLOR_BGR2RGB)\n",
        "\n",
        "    frame = preprocess(frame)\n",
        "    frame = frame.unsqueeze(0)  # Add batch dimension\n",
        "\n",
        "    with torch.no_grad():\n",
        "        embedding = model(frame)\n",
        "        embedding = embedding.squeeze().numpy()\n",
        "\n",
        "    query_embeddings.append(embedding)\n",
        "\n",
        "query_embeddings = np.array(query_embeddings)\n",
        "avg_query_embedding = np.mean(query_embeddings, axis=0)\n",
        "\n",
        "# Perform similarity search using Pinecone\n",
        "num_results = 5  # Number of similar videos to retrieve\n",
        "results = index.query(\n",
        "    vector=avg_query_embedding.tolist(),\n",
        "    top_k=num_results,\n",
        "    include_metadata=True,\n",
        "    namespace='video_embeddings'\n",
        ")\n",
        "\n",
        "# Print the most similar video paths\n",
        "for match in results['matches']:\n",
        "    video_path = match['id']\n",
        "    print(f\"Similar video: {video_path}\")\n",
        "\n",
        "# Create a temporary directory to store the GIFs\n",
        "tmp_dir = './tmp'\n",
        "os.makedirs(tmp_dir, exist_ok=True)\n",
        "\n",
        "def video_to_gif(video_path):\n",
        "    gif_path = os.path.join(tmp_dir, video_path.split('/')[-1][:-4] + '.gif')\n",
        "    frames = []\n",
        "    cap = cv2.VideoCapture(video_path)\n",
        "    while cap.isOpened():\n",
        "        ret, frame = cap.read()\n",
        "        if not ret:\n",
        "            break\n",
        "        frame = cv2.cvtColor(frame, cv2.COLOR_BGR2RGB)\n",
        "        frames.append(Image.fromarray(frame))\n",
        "    cap.release()\n",
        "    frames[0].save(fp=gif_path, format='GIF', append_images=frames[1:], save_all=True, loop=0)\n",
        "    return gif_path\n",
        "\n",
        "# Display the input video as a GIF\n",
        "html = 'Query video \"{}\": <br/>'.format(input_video_path.split('/')[-1])\n",
        "query_gif = video_to_gif(input_video_path)\n",
        "html_line = '<img src=\"{}\"> <br/>'.format(query_gif)\n",
        "html += html_line\n",
        "html += 'Top {} search results: <br/>'.format(num_results)\n",
        "\n",
        "# Display the similar videos as GIFs\n",
        "for path in [match['id'] for match in results['matches']]:\n",
        "    gif_path = video_to_gif(path)\n",
        "    html_line = '<img src=\"{}\" style=\"display:inline;margin:1px\"/>'.format(gif_path)\n",
        "    html += html_line\n",
        "\n",
        "display.HTML(html)"
      ],
      "metadata": {
        "colab": {
          "resources": {
            "http://localhost:8080/tmp/zta-Iv-xK7I.gif": {
              "data": "CjwhRE9DVFlQRSBodG1sPgo8aHRtbCBsYW5nPWVuPgogIDxtZXRhIGNoYXJzZXQ9dXRmLTg+CiAgPG1ldGEgbmFtZT12aWV3cG9ydCBjb250ZW50PSJpbml0aWFsLXNjYWxlPTEsIG1pbmltdW0tc2NhbGU9MSwgd2lkdGg9ZGV2aWNlLXdpZHRoIj4KICA8dGl0bGU+RXJyb3IgNDA0IChOb3QgRm91bmQpISExPC90aXRsZT4KICA8c3R5bGU+CiAgICAqe21hcmdpbjowO3BhZGRpbmc6MH1odG1sLGNvZGV7Zm9udDoxNXB4LzIycHggYXJpYWwsc2Fucy1zZXJpZn1odG1se2JhY2tncm91bmQ6I2ZmZjtjb2xvcjojMjIyO3BhZGRpbmc6MTVweH1ib2R5e21hcmdpbjo3JSBhdXRvIDA7bWF4LXdpZHRoOjM5MHB4O21pbi1oZWlnaHQ6MTgwcHg7cGFkZGluZzozMHB4IDAgMTVweH0qID4gYm9keXtiYWNrZ3JvdW5kOnVybCgvL3d3dy5nb29nbGUuY29tL2ltYWdlcy9lcnJvcnMvcm9ib3QucG5nKSAxMDAlIDVweCBuby1yZXBlYXQ7cGFkZGluZy1yaWdodDoyMDVweH1we21hcmdpbjoxMXB4IDAgMjJweDtvdmVyZmxvdzpoaWRkZW59aW5ze2NvbG9yOiM3Nzc7dGV4dC1kZWNvcmF0aW9uOm5vbmV9YSBpbWd7Ym9yZGVyOjB9QG1lZGlhIHNjcmVlbiBhbmQgKG1heC13aWR0aDo3NzJweCl7Ym9keXtiYWNrZ3JvdW5kOm5vbmU7bWFyZ2luLXRvcDowO21heC13aWR0aDpub25lO3BhZGRpbmctcmlnaHQ6MH19I2xvZ297YmFja2dyb3VuZDp1cmwoLy93d3cuZ29vZ2xlLmNvbS9pbWFnZXMvbG9nb3MvZXJyb3JwYWdlL2Vycm9yX2xvZ28tMTUweDU0LnBuZykgbm8tcmVwZWF0O21hcmdpbi1sZWZ0Oi01cHh9QG1lZGlhIG9ubHkgc2NyZWVuIGFuZCAobWluLXJlc29sdXRpb246MTkyZHBpKXsjbG9nb3tiYWNrZ3JvdW5kOnVybCgvL3d3dy5nb29nbGUuY29tL2ltYWdlcy9sb2dvcy9lcnJvcnBhZ2UvZXJyb3JfbG9nby0xNTB4NTQtMngucG5nKSBuby1yZXBlYXQgMCUgMCUvMTAwJSAxMDAlOy1tb3otYm9yZGVyLWltYWdlOnVybCgvL3d3dy5nb29nbGUuY29tL2ltYWdlcy9sb2dvcy9lcnJvcnBhZ2UvZXJyb3JfbG9nby0xNTB4NTQtMngucG5nKSAwfX1AbWVkaWEgb25seSBzY3JlZW4gYW5kICgtd2Via2l0LW1pbi1kZXZpY2UtcGl4ZWwtcmF0aW86Mil7I2xvZ297YmFja2dyb3VuZDp1cmwoLy93d3cuZ29vZ2xlLmNvbS9pbWFnZXMvbG9nb3MvZXJyb3JwYWdlL2Vycm9yX2xvZ28tMTUweDU0LTJ4LnBuZykgbm8tcmVwZWF0Oy13ZWJraXQtYmFja2dyb3VuZC1zaXplOjEwMCUgMTAwJX19I2xvZ297ZGlzcGxheTppbmxpbmUtYmxvY2s7aGVpZ2h0OjU0cHg7d2lkdGg6MTUwcHh9CiAgPC9zdHlsZT4KICA8YSBocmVmPS8vd3d3Lmdvb2dsZS5jb20vPjxzcGFuIGlkPWxvZ28gYXJpYS1sYWJlbD1Hb29nbGU+PC9zcGFuPjwvYT4KICA8cD48Yj40MDQuPC9iPiA8aW5zPlRoYXTigJlzIGFuIGVycm9yLjwvaW5zPgogIDxwPiAgPGlucz5UaGF04oCZcyBhbGwgd2Uga25vdy48L2lucz4K",
              "ok": false,
              "headers": [
                [
                  "content-length",
                  "1449"
                ],
                [
                  "content-type",
                  "text/html; charset=utf-8"
                ]
              ],
              "status": 404,
              "status_text": ""
            },
            "http://localhost:8080/tmp/linedancing.gif": {
              "data": "CjwhRE9DVFlQRSBodG1sPgo8aHRtbCBsYW5nPWVuPgogIDxtZXRhIGNoYXJzZXQ9dXRmLTg+CiAgPG1ldGEgbmFtZT12aWV3cG9ydCBjb250ZW50PSJpbml0aWFsLXNjYWxlPTEsIG1pbmltdW0tc2NhbGU9MSwgd2lkdGg9ZGV2aWNlLXdpZHRoIj4KICA8dGl0bGU+RXJyb3IgNDA0IChOb3QgRm91bmQpISExPC90aXRsZT4KICA8c3R5bGU+CiAgICAqe21hcmdpbjowO3BhZGRpbmc6MH1odG1sLGNvZGV7Zm9udDoxNXB4LzIycHggYXJpYWwsc2Fucy1zZXJpZn1odG1se2JhY2tncm91bmQ6I2ZmZjtjb2xvcjojMjIyO3BhZGRpbmc6MTVweH1ib2R5e21hcmdpbjo3JSBhdXRvIDA7bWF4LXdpZHRoOjM5MHB4O21pbi1oZWlnaHQ6MTgwcHg7cGFkZGluZzozMHB4IDAgMTVweH0qID4gYm9keXtiYWNrZ3JvdW5kOnVybCgvL3d3dy5nb29nbGUuY29tL2ltYWdlcy9lcnJvcnMvcm9ib3QucG5nKSAxMDAlIDVweCBuby1yZXBlYXQ7cGFkZGluZy1yaWdodDoyMDVweH1we21hcmdpbjoxMXB4IDAgMjJweDtvdmVyZmxvdzpoaWRkZW59aW5ze2NvbG9yOiM3Nzc7dGV4dC1kZWNvcmF0aW9uOm5vbmV9YSBpbWd7Ym9yZGVyOjB9QG1lZGlhIHNjcmVlbiBhbmQgKG1heC13aWR0aDo3NzJweCl7Ym9keXtiYWNrZ3JvdW5kOm5vbmU7bWFyZ2luLXRvcDowO21heC13aWR0aDpub25lO3BhZGRpbmctcmlnaHQ6MH19I2xvZ297YmFja2dyb3VuZDp1cmwoLy93d3cuZ29vZ2xlLmNvbS9pbWFnZXMvbG9nb3MvZXJyb3JwYWdlL2Vycm9yX2xvZ28tMTUweDU0LnBuZykgbm8tcmVwZWF0O21hcmdpbi1sZWZ0Oi01cHh9QG1lZGlhIG9ubHkgc2NyZWVuIGFuZCAobWluLXJlc29sdXRpb246MTkyZHBpKXsjbG9nb3tiYWNrZ3JvdW5kOnVybCgvL3d3dy5nb29nbGUuY29tL2ltYWdlcy9sb2dvcy9lcnJvcnBhZ2UvZXJyb3JfbG9nby0xNTB4NTQtMngucG5nKSBuby1yZXBlYXQgMCUgMCUvMTAwJSAxMDAlOy1tb3otYm9yZGVyLWltYWdlOnVybCgvL3d3dy5nb29nbGUuY29tL2ltYWdlcy9sb2dvcy9lcnJvcnBhZ2UvZXJyb3JfbG9nby0xNTB4NTQtMngucG5nKSAwfX1AbWVkaWEgb25seSBzY3JlZW4gYW5kICgtd2Via2l0LW1pbi1kZXZpY2UtcGl4ZWwtcmF0aW86Mil7I2xvZ297YmFja2dyb3VuZDp1cmwoLy93d3cuZ29vZ2xlLmNvbS9pbWFnZXMvbG9nb3MvZXJyb3JwYWdlL2Vycm9yX2xvZ28tMTUweDU0LTJ4LnBuZykgbm8tcmVwZWF0Oy13ZWJraXQtYmFja2dyb3VuZC1zaXplOjEwMCUgMTAwJX19I2xvZ297ZGlzcGxheTppbmxpbmUtYmxvY2s7aGVpZ2h0OjU0cHg7d2lkdGg6MTUwcHh9CiAgPC9zdHlsZT4KICA8YSBocmVmPS8vd3d3Lmdvb2dsZS5jb20vPjxzcGFuIGlkPWxvZ28gYXJpYS1sYWJlbD1Hb29nbGU+PC9zcGFuPjwvYT4KICA8cD48Yj40MDQuPC9iPiA8aW5zPlRoYXTigJlzIGFuIGVycm9yLjwvaW5zPgogIDxwPiAgPGlucz5UaGF04oCZcyBhbGwgd2Uga25vdy48L2lucz4K",
              "ok": false,
              "headers": [
                [
                  "content-length",
                  "1449"
                ],
                [
                  "content-type",
                  "text/html; charset=utf-8"
                ]
              ],
              "status": 404,
              "status_text": ""
            },
            "http://localhost:8080/tmp/bTbC3w_NIvM.gif": {
              "data": "CjwhRE9DVFlQRSBodG1sPgo8aHRtbCBsYW5nPWVuPgogIDxtZXRhIGNoYXJzZXQ9dXRmLTg+CiAgPG1ldGEgbmFtZT12aWV3cG9ydCBjb250ZW50PSJpbml0aWFsLXNjYWxlPTEsIG1pbmltdW0tc2NhbGU9MSwgd2lkdGg9ZGV2aWNlLXdpZHRoIj4KICA8dGl0bGU+RXJyb3IgNDA0IChOb3QgRm91bmQpISExPC90aXRsZT4KICA8c3R5bGU+CiAgICAqe21hcmdpbjowO3BhZGRpbmc6MH1odG1sLGNvZGV7Zm9udDoxNXB4LzIycHggYXJpYWwsc2Fucy1zZXJpZn1odG1se2JhY2tncm91bmQ6I2ZmZjtjb2xvcjojMjIyO3BhZGRpbmc6MTVweH1ib2R5e21hcmdpbjo3JSBhdXRvIDA7bWF4LXdpZHRoOjM5MHB4O21pbi1oZWlnaHQ6MTgwcHg7cGFkZGluZzozMHB4IDAgMTVweH0qID4gYm9keXtiYWNrZ3JvdW5kOnVybCgvL3d3dy5nb29nbGUuY29tL2ltYWdlcy9lcnJvcnMvcm9ib3QucG5nKSAxMDAlIDVweCBuby1yZXBlYXQ7cGFkZGluZy1yaWdodDoyMDVweH1we21hcmdpbjoxMXB4IDAgMjJweDtvdmVyZmxvdzpoaWRkZW59aW5ze2NvbG9yOiM3Nzc7dGV4dC1kZWNvcmF0aW9uOm5vbmV9YSBpbWd7Ym9yZGVyOjB9QG1lZGlhIHNjcmVlbiBhbmQgKG1heC13aWR0aDo3NzJweCl7Ym9keXtiYWNrZ3JvdW5kOm5vbmU7bWFyZ2luLXRvcDowO21heC13aWR0aDpub25lO3BhZGRpbmctcmlnaHQ6MH19I2xvZ297YmFja2dyb3VuZDp1cmwoLy93d3cuZ29vZ2xlLmNvbS9pbWFnZXMvbG9nb3MvZXJyb3JwYWdlL2Vycm9yX2xvZ28tMTUweDU0LnBuZykgbm8tcmVwZWF0O21hcmdpbi1sZWZ0Oi01cHh9QG1lZGlhIG9ubHkgc2NyZWVuIGFuZCAobWluLXJlc29sdXRpb246MTkyZHBpKXsjbG9nb3tiYWNrZ3JvdW5kOnVybCgvL3d3dy5nb29nbGUuY29tL2ltYWdlcy9sb2dvcy9lcnJvcnBhZ2UvZXJyb3JfbG9nby0xNTB4NTQtMngucG5nKSBuby1yZXBlYXQgMCUgMCUvMTAwJSAxMDAlOy1tb3otYm9yZGVyLWltYWdlOnVybCgvL3d3dy5nb29nbGUuY29tL2ltYWdlcy9sb2dvcy9lcnJvcnBhZ2UvZXJyb3JfbG9nby0xNTB4NTQtMngucG5nKSAwfX1AbWVkaWEgb25seSBzY3JlZW4gYW5kICgtd2Via2l0LW1pbi1kZXZpY2UtcGl4ZWwtcmF0aW86Mil7I2xvZ297YmFja2dyb3VuZDp1cmwoLy93d3cuZ29vZ2xlLmNvbS9pbWFnZXMvbG9nb3MvZXJyb3JwYWdlL2Vycm9yX2xvZ28tMTUweDU0LTJ4LnBuZykgbm8tcmVwZWF0Oy13ZWJraXQtYmFja2dyb3VuZC1zaXplOjEwMCUgMTAwJX19I2xvZ297ZGlzcGxheTppbmxpbmUtYmxvY2s7aGVpZ2h0OjU0cHg7d2lkdGg6MTUwcHh9CiAgPC9zdHlsZT4KICA8YSBocmVmPS8vd3d3Lmdvb2dsZS5jb20vPjxzcGFuIGlkPWxvZ28gYXJpYS1sYWJlbD1Hb29nbGU+PC9zcGFuPjwvYT4KICA8cD48Yj40MDQuPC9iPiA8aW5zPlRoYXTigJlzIGFuIGVycm9yLjwvaW5zPgogIDxwPiAgPGlucz5UaGF04oCZcyBhbGwgd2Uga25vdy48L2lucz4K",
              "ok": false,
              "headers": [
                [
                  "content-length",
                  "1449"
                ],
                [
                  "content-type",
                  "text/html; charset=utf-8"
                ]
              ],
              "status": 404,
              "status_text": ""
            },
            "http://localhost:8080/tmp/n2dWtEmNn5c.gif": {
              "data": "CjwhRE9DVFlQRSBodG1sPgo8aHRtbCBsYW5nPWVuPgogIDxtZXRhIGNoYXJzZXQ9dXRmLTg+CiAgPG1ldGEgbmFtZT12aWV3cG9ydCBjb250ZW50PSJpbml0aWFsLXNjYWxlPTEsIG1pbmltdW0tc2NhbGU9MSwgd2lkdGg9ZGV2aWNlLXdpZHRoIj4KICA8dGl0bGU+RXJyb3IgNDA0IChOb3QgRm91bmQpISExPC90aXRsZT4KICA8c3R5bGU+CiAgICAqe21hcmdpbjowO3BhZGRpbmc6MH1odG1sLGNvZGV7Zm9udDoxNXB4LzIycHggYXJpYWwsc2Fucy1zZXJpZn1odG1se2JhY2tncm91bmQ6I2ZmZjtjb2xvcjojMjIyO3BhZGRpbmc6MTVweH1ib2R5e21hcmdpbjo3JSBhdXRvIDA7bWF4LXdpZHRoOjM5MHB4O21pbi1oZWlnaHQ6MTgwcHg7cGFkZGluZzozMHB4IDAgMTVweH0qID4gYm9keXtiYWNrZ3JvdW5kOnVybCgvL3d3dy5nb29nbGUuY29tL2ltYWdlcy9lcnJvcnMvcm9ib3QucG5nKSAxMDAlIDVweCBuby1yZXBlYXQ7cGFkZGluZy1yaWdodDoyMDVweH1we21hcmdpbjoxMXB4IDAgMjJweDtvdmVyZmxvdzpoaWRkZW59aW5ze2NvbG9yOiM3Nzc7dGV4dC1kZWNvcmF0aW9uOm5vbmV9YSBpbWd7Ym9yZGVyOjB9QG1lZGlhIHNjcmVlbiBhbmQgKG1heC13aWR0aDo3NzJweCl7Ym9keXtiYWNrZ3JvdW5kOm5vbmU7bWFyZ2luLXRvcDowO21heC13aWR0aDpub25lO3BhZGRpbmctcmlnaHQ6MH19I2xvZ297YmFja2dyb3VuZDp1cmwoLy93d3cuZ29vZ2xlLmNvbS9pbWFnZXMvbG9nb3MvZXJyb3JwYWdlL2Vycm9yX2xvZ28tMTUweDU0LnBuZykgbm8tcmVwZWF0O21hcmdpbi1sZWZ0Oi01cHh9QG1lZGlhIG9ubHkgc2NyZWVuIGFuZCAobWluLXJlc29sdXRpb246MTkyZHBpKXsjbG9nb3tiYWNrZ3JvdW5kOnVybCgvL3d3dy5nb29nbGUuY29tL2ltYWdlcy9sb2dvcy9lcnJvcnBhZ2UvZXJyb3JfbG9nby0xNTB4NTQtMngucG5nKSBuby1yZXBlYXQgMCUgMCUvMTAwJSAxMDAlOy1tb3otYm9yZGVyLWltYWdlOnVybCgvL3d3dy5nb29nbGUuY29tL2ltYWdlcy9sb2dvcy9lcnJvcnBhZ2UvZXJyb3JfbG9nby0xNTB4NTQtMngucG5nKSAwfX1AbWVkaWEgb25seSBzY3JlZW4gYW5kICgtd2Via2l0LW1pbi1kZXZpY2UtcGl4ZWwtcmF0aW86Mil7I2xvZ297YmFja2dyb3VuZDp1cmwoLy93d3cuZ29vZ2xlLmNvbS9pbWFnZXMvbG9nb3MvZXJyb3JwYWdlL2Vycm9yX2xvZ28tMTUweDU0LTJ4LnBuZykgbm8tcmVwZWF0Oy13ZWJraXQtYmFja2dyb3VuZC1zaXplOjEwMCUgMTAwJX19I2xvZ297ZGlzcGxheTppbmxpbmUtYmxvY2s7aGVpZ2h0OjU0cHg7d2lkdGg6MTUwcHh9CiAgPC9zdHlsZT4KICA8YSBocmVmPS8vd3d3Lmdvb2dsZS5jb20vPjxzcGFuIGlkPWxvZ28gYXJpYS1sYWJlbD1Hb29nbGU+PC9zcGFuPjwvYT4KICA8cD48Yj40MDQuPC9iPiA8aW5zPlRoYXTigJlzIGFuIGVycm9yLjwvaW5zPgogIDxwPiAgPGlucz5UaGF04oCZcyBhbGwgd2Uga25vdy48L2lucz4K",
              "ok": false,
              "headers": [
                [
                  "content-length",
                  "1449"
                ],
                [
                  "content-type",
                  "text/html; charset=utf-8"
                ]
              ],
              "status": 404,
              "status_text": ""
            }
          },
          "base_uri": "https://localhost:8080/",
          "height": 1000
        },
        "id": "4dmS9VVZaMhK",
        "outputId": "5c782491-06d9-4c2e-cc4a-e489800fa5d5"
      },
      "execution_count": null,
      "outputs": [
        {
          "output_type": "stream",
          "name": "stdout",
          "text": [
            "{\n",
            "    \"input_streams\": [],\n",
            "    \"output_streams\": [],\n",
            "    \"nodes\": [\n",
            "        {\n",
            "            \"module_info\": {\n",
            "                \"name\": \"c_ffmpeg_decoder\",\n",
            "                \"type\": \"\",\n",
            "                \"path\": \"\",\n",
            "                \"entry\": \"\"\n",
            "            },\n",
            "            \"meta_info\": {\n",
            "                \"premodule_id\": -1,\n",
            "                \"callback_binding\": []\n",
            "            },\n",
            "            \"option\": {\n",
            "                \"input_path\": \"/content/linedancing.mp4\"\n",
            "            },\n",
            "            \"input_streams\": [],\n",
            "            \"output_streams\": [\n",
            "                {\n",
            "                    \"identifier\": \"c_ffmpeg_decoder_81_0\",\n",
            "                    \"stream_alias\": \"\"\n",
            "                }\n",
            "            ],\n",
            "            \"input_manager\": \"immediate\",\n",
            "            \"scheduler\": 0,\n",
            "            \"alias\": \"\",\n",
            "            \"id\": 81\n",
            "        },\n",
            "        {\n",
            "            \"module_info\": {\n",
            "                \"name\": \"c_ffmpeg_filter\",\n",
            "                \"type\": \"\",\n",
            "                \"path\": \"\",\n",
            "                \"entry\": \"\"\n",
            "            },\n",
            "            \"meta_info\": {\n",
            "                \"premodule_id\": -1,\n",
            "                \"callback_binding\": []\n",
            "            },\n",
            "            \"option\": {\n",
            "                \"name\": \"fps\",\n",
            "                \"para\": \"fps=2\"\n",
            "            },\n",
            "            \"input_streams\": [\n",
            "                {\n",
            "                    \"identifier\": \"c_ffmpeg_decoder_81_0\",\n",
            "                    \"stream_alias\": \"\"\n",
            "                }\n",
            "            ],\n",
            "            \"output_streams\": [\n",
            "                {\n",
            "                    \"identifier\": \"video:c_ffmpeg_filter_82_1\",\n",
            "                    \"stream_alias\": \"\"\n",
            "                }\n",
            "            ],\n",
            "            \"input_manager\": \"immediate\",\n",
            "            \"scheduler\": 0,\n",
            "            \"alias\": \"\",\n",
            "            \"id\": 82\n",
            "        },\n",
            "        {\n",
            "            \"module_info\": {\n",
            "                \"name\": \"c_ffmpeg_encoder\",\n",
            "                \"type\": \"\",\n",
            "                \"path\": \"\",\n",
            "                \"entry\": \"\"\n",
            "            },\n",
            "            \"meta_info\": {\n",
            "                \"premodule_id\": -1,\n",
            "                \"callback_binding\": []\n",
            "            },\n",
            "            \"option\": {\n",
            "                \"output_path\": \"./extracted-images/simple_%03d.jpg\",\n",
            "                \"format\": \"image2\",\n",
            "                \"video_params\": {\n",
            "                    \"codec\": \"jpg\"\n",
            "                }\n",
            "            },\n",
            "            \"input_streams\": [\n",
            "                {\n",
            "                    \"identifier\": \"c_ffmpeg_filter_82_1\",\n",
            "                    \"stream_alias\": \"\"\n",
            "                }\n",
            "            ],\n",
            "            \"output_streams\": [],\n",
            "            \"input_manager\": \"immediate\",\n",
            "            \"scheduler\": 1,\n",
            "            \"alias\": \"\",\n",
            "            \"id\": 83\n",
            "        }\n",
            "    ],\n",
            "    \"option\": {\n",
            "        \"dump_graph\": 1\n",
            "    },\n",
            "    \"mode\": \"Normal\"\n",
            "}\n",
            "[2024-04-04 00:11:23.967] [info] Constructing c++ module\n",
            "[2024-04-04 00:11:23.971] [info] c++ module constructed\n",
            "[2024-04-04 00:11:23.972] [info] Constructing c++ module\n",
            "[2024-04-04 00:11:23.972] [info] c++ module constructed\n",
            "[2024-04-04 00:11:23.972] [info] Constructing c++ module\n",
            "[2024-04-04 00:11:23.972] [info] c++ module constructed\n",
            "[2024-04-04 00:11:23.972] [info] BMF Version: 0.0.9\n",
            "[2024-04-04 00:11:23.972] [info] BMF Commit: e3c9730\n",
            "[2024-04-04 00:11:23.972] [info] start init graph\n",
            "[2024-04-04 00:11:23.972] [info] scheduler count2\n",
            "debug queue size, node 81, queue size: 5\n",
            "[2024-04-04 00:11:23.972] [info] node:c_ffmpeg_decoder 81 scheduler 0\n",
            "debug queue size, node 83, queue size: 5\n",
            "[2024-04-04 00:11:23.972] [info] node:c_ffmpeg_encoder 83 scheduler 1\n",
            "debug queue size, node 82, queue size: 5\n",
            "[2024-04-04 00:11:23.972] [info] Constructing c++ module\n",
            "[2024-04-04 00:11:23.972] [info] c++ module constructed\n",
            "[2024-04-04 00:11:23.972] [info] node:c_ffmpeg_filter 82 scheduler 0\n"
          ]
        },
        {
          "output_type": "stream",
          "name": "stderr",
          "text": [
            "Input #0, mov,mp4,m4a,3gp,3g2,mj2, from '/content/linedancing.mp4':\n",
            "  Metadata:\n",
            "    major_brand     : isom\n",
            "    minor_version   : 512\n",
            "    compatible_brands: isomiso2avc1mp41\n",
            "    encoder         : Lavf56.4.101\n",
            "  Duration: 00:00:12.00, start: 0.000000, bitrate: 359 kb/s\n",
            "  Stream #0:0(und): Video: h264 (High) (avc1 / 0x31637661), yuv420p, 340x256 [SAR 256:255 DAR 4:3], 227 kb/s, 25 fps, 25 tbr, 12800 tbn, 50 tbc (default)\n",
            "    Metadata:\n",
            "      handler_name    : VideoHandler\n",
            "      vendor_id       : [0][0][0][0]\n",
            "  Stream #0:1(und): Audio: aac (LC) (mp4a / 0x6134706D), 44100 Hz, stereo, fltp, 125 kb/s (default)\n",
            "    Metadata:\n",
            "      handler_name    : SoundHandler\n",
            "      vendor_id       : [0][0][0][0]\n",
            "Output #0, image2, to './extracted-images/simple_%03d.jpg':\n",
            "  Metadata:\n",
            "    encoder         : Lavf58.76.100\n",
            "  Stream #0:0: Video: mjpeg, yuvj444p(pc), 340x256 [SAR 256:255 DAR 4:3], q=2-31, 2 fps, 2 tbr, 2 tbn, 2 tbc\n",
            "[swscaler @ 0x7bc9481fb8c0] deprecated pixel format used, make sure you did set range correctly\n"
          ]
        },
        {
          "output_type": "stream",
          "name": "stdout",
          "text": [
            "[2024-04-04 00:11:24.037] [info] node id:81 decode flushing\n",
            "[2024-04-04 00:11:24.037] [info] node id:81 Process node end\n",
            "[2024-04-04 00:11:24.039] [info] node id:81 close node\n",
            "[2024-04-04 00:11:24.039] [info] node 81 close report, closed count: 1\n",
            "[2024-04-04 00:11:24.039] [info] node id:82 eof received\n",
            "[2024-04-04 00:11:24.039] [info] node id:82 eof processed, remove node from scheduler\n",
            "[2024-04-04 00:11:24.039] [info] node id:82 process eof, add node to scheduler\n",
            "[2024-04-04 00:11:24.039] [info] node id:82 Process node end\n",
            "[2024-04-04 00:11:24.040] [info] node id:82 close node\n",
            "[2024-04-04 00:11:24.040] [info] node 82 close report, closed count: 2\n",
            "[2024-04-04 00:11:24.040] [info] node id:83 eof received\n",
            "[2024-04-04 00:11:24.040] [info] node id:83 eof processed, remove node from scheduler\n",
            "[2024-04-04 00:11:24.040] [info] node id:83 process eof, add node to scheduler\n",
            "Frame extraction completed successfully.\n",
            "[2024-04-04 00:11:24.042] [info] node id:83 Process node end\n",
            "[2024-04-04 00:11:24.042] [info] node id:83 close node\n",
            "[2024-04-04 00:11:24.042] [info] node 83 close report, closed count: 3\n",
            "[2024-04-04 00:11:24.042] [info] schedule queue 0 start to join thread\n",
            "[2024-04-04 00:11:24.042] [info] schedule queue 0 thread quit\n",
            "[2024-04-04 00:11:24.042] [info] schedule queue 0 closed\n",
            "[2024-04-04 00:11:24.042] [info] schedule queue 1 start to join thread\n",
            "[2024-04-04 00:11:24.042] [info] schedule queue 1 thread quit\n",
            "[2024-04-04 00:11:24.042] [info] schedule queue 1 closed\n",
            "[2024-04-04 00:11:24.042] [info] all scheduling threads were joint\n",
            "Similar video: ./train/country_line_dancing/bTbC3w_NIvM.mp4\n",
            "Similar video: ./train/country_line_dancing/zta-Iv-xK7I.mp4\n",
            "Similar video: ./train/country_line_dancing/n2dWtEmNn5c.mp4\n"
          ]
        },
        {
          "output_type": "execute_result",
          "data": {
            "text/plain": [
              "<IPython.core.display.HTML object>"
            ],
            "text/html": [
              "Query video \"linedancing.mp4\": <br/><img src=\"./tmp/linedancing.gif\"> <br/>Top 5 search results: <br/><img src=\"./tmp/bTbC3w_NIvM.gif\" style=\"display:inline;margin:1px\"/><img src=\"./tmp/zta-Iv-xK7I.gif\" style=\"display:inline;margin:1px\"/><img src=\"./tmp/n2dWtEmNn5c.gif\" style=\"display:inline;margin:1px\"/>"
            ]
          },
          "metadata": {},
          "execution_count": 43
        }
      ]
    }
  ]
}